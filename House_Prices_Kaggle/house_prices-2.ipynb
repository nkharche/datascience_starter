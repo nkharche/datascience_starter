{
 "cells": [
  {
   "cell_type": "code",
   "execution_count": 1,
   "metadata": {},
   "outputs": [],
   "source": [
    "import pandas as pd\n",
    "import numpy as np\n",
    "import bisect\n",
    "import lightgbm as lgb\n",
    "import optuna\n",
    "from sklearn.model_selection import train_test_split\n",
    "from sklearn.metrics import roc_curve, auc, roc_auc_score, accuracy_score, recall_score, precision_score, f1_score\n",
    "from sklearn.metrics import r2_score, mean_squared_error\n",
    "from sklearn.metrics import average_precision_score, precision_recall_curve\n",
    "from sklearn.metrics import PrecisionRecallDisplay\n",
    "\n",
    "import matplotlib.pyplot as plt"
   ]
  },
  {
   "cell_type": "code",
   "execution_count": 2,
   "metadata": {},
   "outputs": [],
   "source": [
    "data_path = './data/train.csv'"
   ]
  },
  {
   "cell_type": "code",
   "execution_count": 3,
   "metadata": {},
   "outputs": [],
   "source": [
    "df = pd.read_csv(data_path)"
   ]
  },
  {
   "cell_type": "code",
   "execution_count": 4,
   "metadata": {},
   "outputs": [
    {
     "data": {
      "text/html": [
       "<div>\n",
       "<style scoped>\n",
       "    .dataframe tbody tr th:only-of-type {\n",
       "        vertical-align: middle;\n",
       "    }\n",
       "\n",
       "    .dataframe tbody tr th {\n",
       "        vertical-align: top;\n",
       "    }\n",
       "\n",
       "    .dataframe thead th {\n",
       "        text-align: right;\n",
       "    }\n",
       "</style>\n",
       "<table border=\"1\" class=\"dataframe\">\n",
       "  <thead>\n",
       "    <tr style=\"text-align: right;\">\n",
       "      <th></th>\n",
       "      <th>Id</th>\n",
       "      <th>MSSubClass</th>\n",
       "      <th>MSZoning</th>\n",
       "      <th>LotFrontage</th>\n",
       "      <th>LotArea</th>\n",
       "      <th>Street</th>\n",
       "      <th>Alley</th>\n",
       "      <th>LotShape</th>\n",
       "      <th>LandContour</th>\n",
       "      <th>Utilities</th>\n",
       "      <th>...</th>\n",
       "      <th>PoolArea</th>\n",
       "      <th>PoolQC</th>\n",
       "      <th>Fence</th>\n",
       "      <th>MiscFeature</th>\n",
       "      <th>MiscVal</th>\n",
       "      <th>MoSold</th>\n",
       "      <th>YrSold</th>\n",
       "      <th>SaleType</th>\n",
       "      <th>SaleCondition</th>\n",
       "      <th>SalePrice</th>\n",
       "    </tr>\n",
       "  </thead>\n",
       "  <tbody>\n",
       "    <tr>\n",
       "      <th>0</th>\n",
       "      <td>1</td>\n",
       "      <td>60</td>\n",
       "      <td>RL</td>\n",
       "      <td>65.0</td>\n",
       "      <td>8450</td>\n",
       "      <td>Pave</td>\n",
       "      <td>NaN</td>\n",
       "      <td>Reg</td>\n",
       "      <td>Lvl</td>\n",
       "      <td>AllPub</td>\n",
       "      <td>...</td>\n",
       "      <td>0</td>\n",
       "      <td>NaN</td>\n",
       "      <td>NaN</td>\n",
       "      <td>NaN</td>\n",
       "      <td>0</td>\n",
       "      <td>2</td>\n",
       "      <td>2008</td>\n",
       "      <td>WD</td>\n",
       "      <td>Normal</td>\n",
       "      <td>208500</td>\n",
       "    </tr>\n",
       "    <tr>\n",
       "      <th>1</th>\n",
       "      <td>2</td>\n",
       "      <td>20</td>\n",
       "      <td>RL</td>\n",
       "      <td>80.0</td>\n",
       "      <td>9600</td>\n",
       "      <td>Pave</td>\n",
       "      <td>NaN</td>\n",
       "      <td>Reg</td>\n",
       "      <td>Lvl</td>\n",
       "      <td>AllPub</td>\n",
       "      <td>...</td>\n",
       "      <td>0</td>\n",
       "      <td>NaN</td>\n",
       "      <td>NaN</td>\n",
       "      <td>NaN</td>\n",
       "      <td>0</td>\n",
       "      <td>5</td>\n",
       "      <td>2007</td>\n",
       "      <td>WD</td>\n",
       "      <td>Normal</td>\n",
       "      <td>181500</td>\n",
       "    </tr>\n",
       "    <tr>\n",
       "      <th>2</th>\n",
       "      <td>3</td>\n",
       "      <td>60</td>\n",
       "      <td>RL</td>\n",
       "      <td>68.0</td>\n",
       "      <td>11250</td>\n",
       "      <td>Pave</td>\n",
       "      <td>NaN</td>\n",
       "      <td>IR1</td>\n",
       "      <td>Lvl</td>\n",
       "      <td>AllPub</td>\n",
       "      <td>...</td>\n",
       "      <td>0</td>\n",
       "      <td>NaN</td>\n",
       "      <td>NaN</td>\n",
       "      <td>NaN</td>\n",
       "      <td>0</td>\n",
       "      <td>9</td>\n",
       "      <td>2008</td>\n",
       "      <td>WD</td>\n",
       "      <td>Normal</td>\n",
       "      <td>223500</td>\n",
       "    </tr>\n",
       "    <tr>\n",
       "      <th>3</th>\n",
       "      <td>4</td>\n",
       "      <td>70</td>\n",
       "      <td>RL</td>\n",
       "      <td>60.0</td>\n",
       "      <td>9550</td>\n",
       "      <td>Pave</td>\n",
       "      <td>NaN</td>\n",
       "      <td>IR1</td>\n",
       "      <td>Lvl</td>\n",
       "      <td>AllPub</td>\n",
       "      <td>...</td>\n",
       "      <td>0</td>\n",
       "      <td>NaN</td>\n",
       "      <td>NaN</td>\n",
       "      <td>NaN</td>\n",
       "      <td>0</td>\n",
       "      <td>2</td>\n",
       "      <td>2006</td>\n",
       "      <td>WD</td>\n",
       "      <td>Abnorml</td>\n",
       "      <td>140000</td>\n",
       "    </tr>\n",
       "    <tr>\n",
       "      <th>4</th>\n",
       "      <td>5</td>\n",
       "      <td>60</td>\n",
       "      <td>RL</td>\n",
       "      <td>84.0</td>\n",
       "      <td>14260</td>\n",
       "      <td>Pave</td>\n",
       "      <td>NaN</td>\n",
       "      <td>IR1</td>\n",
       "      <td>Lvl</td>\n",
       "      <td>AllPub</td>\n",
       "      <td>...</td>\n",
       "      <td>0</td>\n",
       "      <td>NaN</td>\n",
       "      <td>NaN</td>\n",
       "      <td>NaN</td>\n",
       "      <td>0</td>\n",
       "      <td>12</td>\n",
       "      <td>2008</td>\n",
       "      <td>WD</td>\n",
       "      <td>Normal</td>\n",
       "      <td>250000</td>\n",
       "    </tr>\n",
       "  </tbody>\n",
       "</table>\n",
       "<p>5 rows × 81 columns</p>\n",
       "</div>"
      ],
      "text/plain": [
       "   Id  MSSubClass MSZoning  LotFrontage  LotArea Street Alley LotShape  \\\n",
       "0   1          60       RL         65.0     8450   Pave   NaN      Reg   \n",
       "1   2          20       RL         80.0     9600   Pave   NaN      Reg   \n",
       "2   3          60       RL         68.0    11250   Pave   NaN      IR1   \n",
       "3   4          70       RL         60.0     9550   Pave   NaN      IR1   \n",
       "4   5          60       RL         84.0    14260   Pave   NaN      IR1   \n",
       "\n",
       "  LandContour Utilities  ... PoolArea PoolQC Fence MiscFeature MiscVal MoSold  \\\n",
       "0         Lvl    AllPub  ...        0    NaN   NaN         NaN       0      2   \n",
       "1         Lvl    AllPub  ...        0    NaN   NaN         NaN       0      5   \n",
       "2         Lvl    AllPub  ...        0    NaN   NaN         NaN       0      9   \n",
       "3         Lvl    AllPub  ...        0    NaN   NaN         NaN       0      2   \n",
       "4         Lvl    AllPub  ...        0    NaN   NaN         NaN       0     12   \n",
       "\n",
       "  YrSold  SaleType  SaleCondition  SalePrice  \n",
       "0   2008        WD         Normal     208500  \n",
       "1   2007        WD         Normal     181500  \n",
       "2   2008        WD         Normal     223500  \n",
       "3   2006        WD        Abnorml     140000  \n",
       "4   2008        WD         Normal     250000  \n",
       "\n",
       "[5 rows x 81 columns]"
      ]
     },
     "execution_count": 4,
     "metadata": {},
     "output_type": "execute_result"
    }
   ],
   "source": [
    "df.head()"
   ]
  },
  {
   "cell_type": "markdown",
   "metadata": {},
   "source": [
    "### Label distribution"
   ]
  },
  {
   "cell_type": "code",
   "execution_count": 5,
   "metadata": {},
   "outputs": [
    {
     "data": {
      "text/plain": [
       "count      1460.000000\n",
       "mean     180921.195890\n",
       "std       79442.502883\n",
       "min       34900.000000\n",
       "25%      129975.000000\n",
       "50%      163000.000000\n",
       "75%      214000.000000\n",
       "max      755000.000000\n",
       "Name: SalePrice, dtype: float64"
      ]
     },
     "execution_count": 5,
     "metadata": {},
     "output_type": "execute_result"
    }
   ],
   "source": [
    "df[\"SalePrice\"].describe()"
   ]
  },
  {
   "cell_type": "code",
   "execution_count": 6,
   "metadata": {},
   "outputs": [
    {
     "data": {
      "text/plain": [
       "Text(0, 0.5, 'frequency')"
      ]
     },
     "execution_count": 6,
     "metadata": {},
     "output_type": "execute_result"
    },
    {
     "data": {
      "image/png": "[encoded data removed]",
      "text/plain": [
       "<Figure size 300x300 with 1 Axes>"
      ]
     },
     "metadata": {},
     "output_type": "display_data"
    }
   ],
   "source": [
    "fig, ax = plt.subplots(figsize=(3,3))\n",
    "df[\"SalePrice\"].hist(bins=50, grid=False, alpha=.5, ax=ax)\n",
    "ax.set_xlabel(\"SalePrice\")\n",
    "ax.set_ylabel(\"frequency\")"
   ]
  },
  {
   "cell_type": "code",
   "execution_count": 7,
   "metadata": {},
   "outputs": [
    {
     "name": "stdout",
     "output_type": "stream",
     "text": [
      "max_SalePrice: 326000\n"
     ]
    }
   ],
   "source": [
    "max_SalePrice = df[[\"SalePrice\"]].quantile(.95, method=\"table\", interpolation=\"nearest\").values[0]\n",
    "print(f\"max_SalePrice: {max_SalePrice}\")\n",
    "\n",
    "# df.loc[df[\"SalePrice\"] > max_SalePrice, \"SalePrice\"] = max_SalePrice\n",
    "df = df[df[\"SalePrice\"] <= max_SalePrice]"
   ]
  },
  {
   "cell_type": "code",
   "execution_count": 8,
   "metadata": {},
   "outputs": [
    {
     "data": {
      "text/plain": [
       "Text(0, 0.5, 'frequency')"
      ]
     },
     "execution_count": 8,
     "metadata": {},
     "output_type": "execute_result"
    },
    {
     "data": {
      "image/png": "[encoded data removed]",
      "text/plain": [
       "<Figure size 300x300 with 1 Axes>"
      ]
     },
     "metadata": {},
     "output_type": "display_data"
    }
   ],
   "source": [
    "fig, ax = plt.subplots(figsize=(3,3))\n",
    "df[\"SalePrice\"].hist(bins=50, grid=False, alpha=.5, ax=ax)\n",
    "ax.set_xlabel(\"SalePrice\")\n",
    "ax.set_ylabel(\"frequency\")"
   ]
  },
  {
   "cell_type": "code",
   "execution_count": 9,
   "metadata": {},
   "outputs": [
    {
     "data": {
      "text/plain": [
       "Text(0, 0.5, 'frequency')"
      ]
     },
     "execution_count": 9,
     "metadata": {},
     "output_type": "execute_result"
    },
    {
     "data": {
      "image/png": "[encoded data removed]",
      "text/plain": [
       "<Figure size 300x300 with 1 Axes>"
      ]
     },
     "metadata": {},
     "output_type": "display_data"
    }
   ],
   "source": [
    "fig, ax = plt.subplots(figsize=(3,3))\n",
    "df[\"SalePrice\"].hist(bins=50, grid=False, alpha=.5, ax=ax)\n",
    "ax.set_xscale(\"log\")\n",
    "ax.set_xlabel(\"SalePrice\")\n",
    "ax.set_ylabel(\"frequency\")"
   ]
  },
  {
   "cell_type": "code",
   "execution_count": 10,
   "metadata": {},
   "outputs": [],
   "source": [
    "def print_list_in_batches(lst, batch):\n",
    "    for idx in range(0, len(lst), batch):\n",
    "        print(lst[idx : idx + batch])"
   ]
  },
  {
   "cell_type": "code",
   "execution_count": 11,
   "metadata": {},
   "outputs": [],
   "source": [
    "def label_transform(y):\n",
    "    return np.log(1 + y)\n",
    "\n",
    "def inverse_label_transform(yt):\n",
    "    return np.exp(yt) - 1\n",
    "\n",
    "def log_numerical(x):\n",
    "    if not pd.isnull(x):\n",
    "        return np.log(1 + x)\n",
    "    \n",
    "def log_bin_numerical(x):\n",
    "    if pd.isnull(x):\n",
    "        return \"-1\"\n",
    "    elif x == 0:\n",
    "        return \"zero\"\n",
    "    else:\n",
    "        return np.log(x)\n"
   ]
  },
  {
   "cell_type": "code",
   "execution_count": 12,
   "metadata": {},
   "outputs": [],
   "source": [
    "# Custom imputation functions\n",
    "def compute_numerical_imputation_values(df, features):\n",
    "    return df[features].mean(skipna=True).to_dict() \n",
    "\n",
    "def compute_categorical_imputation_values(df, features):\n",
    "    return df[features].mode(axis=0).iloc[0].to_dict()\n",
    "\n",
    "def compute_imputation_values(df, categorical_features=[], numerical_features=[]):\n",
    "    numerical_imputation_map = compute_numerical_imputation_values(df, numerical_features)\n",
    "    categorical_imputation_map = compute_categorical_imputation_values(df, categorical_features)\n",
    "    return {\n",
    "        **numerical_imputation_map, \n",
    "        **categorical_imputation_map\n",
    "    }\n",
    "\n",
    "def fill_missing_values(df, imputation_map):\n",
    "    for col, val in imputation_map.items():\n",
    "        df[col] = df[col].fillna(val)\n",
    "    return df"
   ]
  },
  {
   "cell_type": "markdown",
   "metadata": {},
   "source": [
    "### Label transformation"
   ]
  },
  {
   "cell_type": "code",
   "execution_count": 13,
   "metadata": {},
   "outputs": [],
   "source": [
    "df[\"SalePrice\"] = df[\"SalePrice\"].apply(label_transform)"
   ]
  },
  {
   "cell_type": "markdown",
   "metadata": {},
   "source": [
    "### Feature analysis"
   ]
  },
  {
   "cell_type": "code",
   "execution_count": 14,
   "metadata": {},
   "outputs": [
    {
     "data": {
      "text/plain": [
       "{'PoolQC': 99.56741167988464,\n",
       " 'MiscFeature': 96.10670511896178,\n",
       " 'Alley': 93.43907714491708,\n",
       " 'Fence': 80.02883922134102,\n",
       " 'MasVnrType': 61.86012977649603,\n",
       " 'FireplaceQu': 49.603460706560924,\n",
       " 'LotFrontage': 18.385003604902668,\n",
       " 'GarageQual': 5.839942321557317,\n",
       " 'GarageFinish': 5.839942321557317,\n",
       " 'GarageType': 5.839942321557317,\n",
       " 'GarageYrBlt': 5.839942321557317,\n",
       " 'GarageCond': 5.839942321557317,\n",
       " 'BsmtFinType2': 2.73972602739726,\n",
       " 'BsmtExposure': 2.73972602739726,\n",
       " 'BsmtCond': 2.6676279740447004,\n",
       " 'BsmtQual': 2.6676279740447004,\n",
       " 'BsmtFinType1': 2.6676279740447004,\n",
       " 'MasVnrArea': 0.5046863734679163,\n",
       " 'Electrical': 0.07209805335255948}"
      ]
     },
     "execution_count": 14,
     "metadata": {},
     "output_type": "execute_result"
    }
   ],
   "source": [
    "# Missing value %\n",
    "missing_pct = (100 * (df.isna().sum() / len(df)).sort_values(ascending=False)).to_dict()\n",
    "missing_pct = {k: v for k, v in missing_pct.items() if v > 0}\n",
    "missing_pct"
   ]
  },
  {
   "cell_type": "code",
   "execution_count": 15,
   "metadata": {},
   "outputs": [
    {
     "data": {
      "text/plain": [
       "PoolQC\n",
       "Gd    3\n",
       "Fa    2\n",
       "Ex    1\n",
       "Name: count, dtype: int64"
      ]
     },
     "execution_count": 15,
     "metadata": {},
     "output_type": "execute_result"
    }
   ],
   "source": [
    "df[\"PoolQC\"].value_counts()"
   ]
  },
  {
   "cell_type": "code",
   "execution_count": 16,
   "metadata": {},
   "outputs": [],
   "source": [
    "# Augment features\n",
    "df[\"Age\"] = (df[\"YrSold\"] - df[\"YearBuilt\"]).apply(lambda x: max(0, x))\n",
    "df[\"RemodelAge\"] = (df[\"YrSold\"] - df[\"YearRemodAdd\"]).apply(lambda x: max(0, x))\n",
    "df[\"GarageAge\"] = (df[\"YrSold\"] - df[\"GarageYrBlt\"]).apply(lambda x: max(0, x))"
   ]
  },
  {
   "cell_type": "code",
   "execution_count": 17,
   "metadata": {},
   "outputs": [],
   "source": [
    "features = [cn for cn in df.columns if cn not in {\"Id\", \"SalePrice\", \"YearBuilt\", \"YearRemodAdd\", \"GarageYrBlt\"}]"
   ]
  },
  {
   "cell_type": "code",
   "execution_count": 18,
   "metadata": {},
   "outputs": [
    {
     "name": "stdout",
     "output_type": "stream",
     "text": [
      "['MSSubClass', 'MSZoning', 'Street', 'Alley', 'LotShape']\n",
      "['LandContour', 'Utilities', 'LotConfig', 'LandSlope', 'Neighborhood']\n",
      "['Condition1', 'Condition2', 'BldgType', 'HouseStyle', 'OverallQual']\n",
      "['OverallCond', 'RoofStyle', 'RoofMatl', 'Exterior1st', 'Exterior2nd']\n",
      "['MasVnrType', 'MasVnrArea', 'ExterQual', 'ExterCond', 'Foundation']\n",
      "['BsmtQual', 'BsmtCond', 'BsmtExposure', 'BsmtFinType1', 'BsmtFinType2']\n",
      "['Heating', 'HeatingQC', 'CentralAir', 'Electrical', 'KitchenQual']\n",
      "['Functional', 'FireplaceQu', 'GarageType', 'GarageFinish', 'GarageQual']\n",
      "['GarageCond', 'PavedDrive', 'PoolQC', 'Fence', 'MiscFeature']\n",
      "['MoSold', 'SaleType', 'SaleCondition', 'YrSold']\n"
     ]
    }
   ],
   "source": [
    "categorical_features = [\n",
    "    'MSSubClass', 'MSZoning', 'Street', 'Alley', 'LotShape',\n",
    "    'LandContour', 'Utilities', 'LotConfig', 'LandSlope', 'Neighborhood',\n",
    "    'Condition1', 'Condition2', 'BldgType', 'HouseStyle', 'OverallQual',\n",
    "    'OverallCond', 'RoofStyle', 'RoofMatl', 'Exterior1st', 'Exterior2nd',\n",
    "    'MasVnrType', 'MasVnrArea', 'ExterQual', 'ExterCond', 'Foundation',\n",
    "    'BsmtQual', 'BsmtCond', 'BsmtExposure', 'BsmtFinType1', 'BsmtFinType2',\n",
    "    'Heating', 'HeatingQC', 'CentralAir', 'Electrical', 'KitchenQual',\n",
    "    'Functional', 'FireplaceQu', 'GarageType', 'GarageFinish', 'GarageQual',\n",
    "    'GarageCond', 'PavedDrive', 'PoolQC', 'Fence', 'MiscFeature',\n",
    "    'MoSold', 'SaleType', 'SaleCondition', 'YrSold'\n",
    "]\n",
    "\n",
    "print_list_in_batches(categorical_features, batch=5)"
   ]
  },
  {
   "cell_type": "code",
   "execution_count": 19,
   "metadata": {},
   "outputs": [
    {
     "name": "stdout",
     "output_type": "stream",
     "text": [
      "['LotFrontage', 'LotArea', 'BsmtFinSF1', 'BsmtFinSF2', 'BsmtUnfSF']\n",
      "['TotalBsmtSF', '1stFlrSF', '2ndFlrSF', 'LowQualFinSF', 'GrLivArea']\n",
      "['BsmtFullBath', 'BsmtHalfBath', 'FullBath', 'HalfBath', 'BedroomAbvGr']\n",
      "['KitchenAbvGr', 'TotRmsAbvGrd', 'Fireplaces', 'GarageCars', 'GarageArea']\n",
      "['WoodDeckSF', 'OpenPorchSF', 'EnclosedPorch', '3SsnPorch', 'ScreenPorch']\n",
      "['PoolArea', 'MiscVal', 'Age', 'RemodelAge', 'GarageAge']\n"
     ]
    }
   ],
   "source": [
    "numerical_features = [x for x in features if x not in categorical_features]\n",
    "df.loc[:, numerical_features] = df[numerical_features].apply(pd.to_numeric)\n",
    "\n",
    "print_list_in_batches(numerical_features, batch=5)"
   ]
  },
  {
   "cell_type": "code",
   "execution_count": 20,
   "metadata": {},
   "outputs": [
    {
     "name": "stdout",
     "output_type": "stream",
     "text": [
      "LotFrontage: 21.0 -- 313.0\n",
      "LotArea: 1300 -- 164660\n",
      "BsmtFinSF1: 0 -- 5644\n",
      "BsmtFinSF2: 0 -- 1474\n",
      "BsmtUnfSF: 0 -- 2042\n",
      "TotalBsmtSF: 0 -- 6110\n",
      "1stFlrSF: 334 -- 4692\n",
      "2ndFlrSF: 0 -- 1818\n",
      "LowQualFinSF: 0 -- 528\n",
      "GrLivArea: 334 -- 5642\n",
      "BsmtFullBath: 0 -- 3\n",
      "BsmtHalfBath: 0 -- 2\n",
      "FullBath: 0 -- 3\n",
      "HalfBath: 0 -- 2\n",
      "BedroomAbvGr: 0 -- 8\n",
      "KitchenAbvGr: 0 -- 3\n",
      "TotRmsAbvGrd: 2 -- 14\n",
      "Fireplaces: 0 -- 3\n",
      "GarageCars: 0 -- 4\n",
      "GarageArea: 0 -- 1418\n",
      "WoodDeckSF: 0 -- 736\n",
      "OpenPorchSF: 0 -- 547\n",
      "EnclosedPorch: 0 -- 552\n",
      "3SsnPorch: 0 -- 508\n",
      "ScreenPorch: 0 -- 480\n",
      "PoolArea: 0 -- 738\n",
      "MiscVal: 0 -- 15500\n",
      "Age: 0 -- 136\n",
      "RemodelAge: 0 -- 60\n",
      "GarageAge: 0.0 -- 107.0\n"
     ]
    }
   ],
   "source": [
    "for fn in numerical_features:\n",
    "    print(f\"{fn}: {df[fn].min()} -- {df[fn].max()}\")"
   ]
  },
  {
   "cell_type": "code",
   "execution_count": 21,
   "metadata": {},
   "outputs": [],
   "source": [
    "log_transformed_features = [\n",
    "    \"LotFrontage\", \"LotArea\", \"BsmtFinSF1\",\n",
    "    \"BsmtFinSF2\", \"BsmtUnfSF\", \"TotalBsmtSF\", \"1stFlrSF\", \"2ndFlrSF\",\n",
    "    \"LowQualFinSF\", \"GrLivArea\", \"GarageArea\", \"WoodDeckSF\", \"OpenPorchSF\",\n",
    "    \"EnclosedPorch\", \"3SsnPorch\", \"ScreenPorch\", \"PoolArea\", \"MiscVal\"\n",
    "]\n",
    "\n",
    "log_bin_transformed_features = [\"Age\", \"RemodelAge\", \"GarageAge\"]"
   ]
  },
  {
   "cell_type": "code",
   "execution_count": 22,
   "metadata": {},
   "outputs": [
    {
     "name": "stdout",
     "output_type": "stream",
     "text": [
      "['BsmtFullBath', 'BsmtHalfBath', 'FullBath', 'HalfBath', 'BedroomAbvGr']\n",
      "['KitchenAbvGr', 'TotRmsAbvGrd', 'Fireplaces', 'GarageCars']\n"
     ]
    }
   ],
   "source": [
    "rem_numerical_features = [\n",
    "    fn for fn in numerical_features \n",
    "    if fn not in log_transformed_features\n",
    "    and fn not in log_bin_transformed_features\n",
    "]\n",
    "print_list_in_batches(rem_numerical_features, batch=5)"
   ]
  },
  {
   "cell_type": "code",
   "execution_count": 23,
   "metadata": {},
   "outputs": [
    {
     "data": {
      "text/html": [
       "<div>\n",
       "<style scoped>\n",
       "    .dataframe tbody tr th:only-of-type {\n",
       "        vertical-align: middle;\n",
       "    }\n",
       "\n",
       "    .dataframe tbody tr th {\n",
       "        vertical-align: top;\n",
       "    }\n",
       "\n",
       "    .dataframe thead th {\n",
       "        text-align: right;\n",
       "    }\n",
       "</style>\n",
       "<table border=\"1\" class=\"dataframe\">\n",
       "  <thead>\n",
       "    <tr style=\"text-align: right;\">\n",
       "      <th></th>\n",
       "      <th>BsmtFullBath</th>\n",
       "      <th>BsmtHalfBath</th>\n",
       "      <th>FullBath</th>\n",
       "      <th>HalfBath</th>\n",
       "      <th>BedroomAbvGr</th>\n",
       "      <th>KitchenAbvGr</th>\n",
       "      <th>TotRmsAbvGrd</th>\n",
       "      <th>Fireplaces</th>\n",
       "      <th>GarageCars</th>\n",
       "    </tr>\n",
       "  </thead>\n",
       "  <tbody>\n",
       "    <tr>\n",
       "      <th>0</th>\n",
       "      <td>1</td>\n",
       "      <td>0</td>\n",
       "      <td>2</td>\n",
       "      <td>1</td>\n",
       "      <td>3</td>\n",
       "      <td>1</td>\n",
       "      <td>8</td>\n",
       "      <td>0</td>\n",
       "      <td>2</td>\n",
       "    </tr>\n",
       "    <tr>\n",
       "      <th>1</th>\n",
       "      <td>0</td>\n",
       "      <td>1</td>\n",
       "      <td>2</td>\n",
       "      <td>0</td>\n",
       "      <td>3</td>\n",
       "      <td>1</td>\n",
       "      <td>6</td>\n",
       "      <td>1</td>\n",
       "      <td>2</td>\n",
       "    </tr>\n",
       "    <tr>\n",
       "      <th>2</th>\n",
       "      <td>1</td>\n",
       "      <td>0</td>\n",
       "      <td>2</td>\n",
       "      <td>1</td>\n",
       "      <td>3</td>\n",
       "      <td>1</td>\n",
       "      <td>6</td>\n",
       "      <td>1</td>\n",
       "      <td>2</td>\n",
       "    </tr>\n",
       "    <tr>\n",
       "      <th>3</th>\n",
       "      <td>1</td>\n",
       "      <td>0</td>\n",
       "      <td>1</td>\n",
       "      <td>0</td>\n",
       "      <td>3</td>\n",
       "      <td>1</td>\n",
       "      <td>7</td>\n",
       "      <td>1</td>\n",
       "      <td>3</td>\n",
       "    </tr>\n",
       "    <tr>\n",
       "      <th>4</th>\n",
       "      <td>1</td>\n",
       "      <td>0</td>\n",
       "      <td>2</td>\n",
       "      <td>1</td>\n",
       "      <td>4</td>\n",
       "      <td>1</td>\n",
       "      <td>9</td>\n",
       "      <td>1</td>\n",
       "      <td>3</td>\n",
       "    </tr>\n",
       "  </tbody>\n",
       "</table>\n",
       "</div>"
      ],
      "text/plain": [
       "   BsmtFullBath  BsmtHalfBath  FullBath  HalfBath  BedroomAbvGr  KitchenAbvGr  \\\n",
       "0             1             0         2         1             3             1   \n",
       "1             0             1         2         0             3             1   \n",
       "2             1             0         2         1             3             1   \n",
       "3             1             0         1         0             3             1   \n",
       "4             1             0         2         1             4             1   \n",
       "\n",
       "   TotRmsAbvGrd  Fireplaces  GarageCars  \n",
       "0             8           0           2  \n",
       "1             6           1           2  \n",
       "2             6           1           2  \n",
       "3             7           1           3  \n",
       "4             9           1           3  "
      ]
     },
     "execution_count": 23,
     "metadata": {},
     "output_type": "execute_result"
    }
   ],
   "source": [
    "df[rem_numerical_features].head()"
   ]
  },
  {
   "cell_type": "code",
   "execution_count": 24,
   "metadata": {},
   "outputs": [
    {
     "name": "stdout",
     "output_type": "stream",
     "text": [
      "BsmtFullBath: 0 -- 3\n",
      "BsmtHalfBath: 0 -- 2\n",
      "FullBath: 0 -- 3\n",
      "HalfBath: 0 -- 2\n",
      "BedroomAbvGr: 0 -- 8\n",
      "KitchenAbvGr: 0 -- 3\n",
      "TotRmsAbvGrd: 2 -- 14\n",
      "Fireplaces: 0 -- 3\n",
      "GarageCars: 0 -- 4\n"
     ]
    }
   ],
   "source": [
    "for fn in rem_numerical_features:\n",
    "    print(f\"{fn}: {df[fn].min()} -- {df[fn].max()}\")"
   ]
  },
  {
   "cell_type": "code",
   "execution_count": null,
   "metadata": {},
   "outputs": [],
   "source": []
  },
  {
   "cell_type": "code",
   "execution_count": null,
   "metadata": {},
   "outputs": [],
   "source": []
  },
  {
   "cell_type": "code",
   "execution_count": 25,
   "metadata": {},
   "outputs": [
    {
     "data": {
      "text/plain": [
       "{'Id': 0,\n",
       " 'MSSubClass': 0,\n",
       " 'MSZoning': 0,\n",
       " 'LotFrontage': 255,\n",
       " 'LotArea': 0,\n",
       " 'Street': 0,\n",
       " 'Alley': 1296,\n",
       " 'LotShape': 0,\n",
       " 'LandContour': 0,\n",
       " 'Utilities': 0,\n",
       " 'LotConfig': 0,\n",
       " 'LandSlope': 0,\n",
       " 'Neighborhood': 0,\n",
       " 'Condition1': 0,\n",
       " 'Condition2': 0,\n",
       " 'BldgType': 0,\n",
       " 'HouseStyle': 0,\n",
       " 'OverallQual': 0,\n",
       " 'OverallCond': 0,\n",
       " 'YearBuilt': 0,\n",
       " 'YearRemodAdd': 0,\n",
       " 'RoofStyle': 0,\n",
       " 'RoofMatl': 0,\n",
       " 'Exterior1st': 0,\n",
       " 'Exterior2nd': 0,\n",
       " 'MasVnrType': 858,\n",
       " 'MasVnrArea': 7,\n",
       " 'ExterQual': 0,\n",
       " 'ExterCond': 0,\n",
       " 'Foundation': 0,\n",
       " 'BsmtQual': 37,\n",
       " 'BsmtCond': 37,\n",
       " 'BsmtExposure': 38,\n",
       " 'BsmtFinType1': 37,\n",
       " 'BsmtFinSF1': 0,\n",
       " 'BsmtFinType2': 38,\n",
       " 'BsmtFinSF2': 0,\n",
       " 'BsmtUnfSF': 0,\n",
       " 'TotalBsmtSF': 0,\n",
       " 'Heating': 0,\n",
       " 'HeatingQC': 0,\n",
       " 'CentralAir': 0,\n",
       " 'Electrical': 1,\n",
       " '1stFlrSF': 0,\n",
       " '2ndFlrSF': 0,\n",
       " 'LowQualFinSF': 0,\n",
       " 'GrLivArea': 0,\n",
       " 'BsmtFullBath': 0,\n",
       " 'BsmtHalfBath': 0,\n",
       " 'FullBath': 0,\n",
       " 'HalfBath': 0,\n",
       " 'BedroomAbvGr': 0,\n",
       " 'KitchenAbvGr': 0,\n",
       " 'KitchenQual': 0,\n",
       " 'TotRmsAbvGrd': 0,\n",
       " 'Functional': 0,\n",
       " 'Fireplaces': 0,\n",
       " 'FireplaceQu': 688,\n",
       " 'GarageType': 81,\n",
       " 'GarageYrBlt': 81,\n",
       " 'GarageFinish': 81,\n",
       " 'GarageCars': 0,\n",
       " 'GarageArea': 0,\n",
       " 'GarageQual': 81,\n",
       " 'GarageCond': 81,\n",
       " 'PavedDrive': 0,\n",
       " 'WoodDeckSF': 0,\n",
       " 'OpenPorchSF': 0,\n",
       " 'EnclosedPorch': 0,\n",
       " '3SsnPorch': 0,\n",
       " 'ScreenPorch': 0,\n",
       " 'PoolArea': 0,\n",
       " 'PoolQC': 1381,\n",
       " 'Fence': 1110,\n",
       " 'MiscFeature': 1333,\n",
       " 'MiscVal': 0,\n",
       " 'MoSold': 0,\n",
       " 'YrSold': 0,\n",
       " 'SaleType': 0,\n",
       " 'SaleCondition': 0,\n",
       " 'SalePrice': 0,\n",
       " 'Age': 0,\n",
       " 'RemodelAge': 0,\n",
       " 'GarageAge': 0}"
      ]
     },
     "execution_count": 25,
     "metadata": {},
     "output_type": "execute_result"
    }
   ],
   "source": [
    "df.isna().sum().to_dict()"
   ]
  },
  {
   "cell_type": "code",
   "execution_count": 26,
   "metadata": {},
   "outputs": [],
   "source": [
    "target_column = \"SalePrice\"\n",
    "all_features = categorical_features + log_transformed_features + log_bin_transformed_features + rem_numerical_features"
   ]
  },
  {
   "cell_type": "code",
   "execution_count": 27,
   "metadata": {},
   "outputs": [
    {
     "data": {
      "text/plain": [
       "{'MSSubClass': 0,\n",
       " 'MSZoning': 0,\n",
       " 'Street': 0,\n",
       " 'Alley': 1296,\n",
       " 'LotShape': 0,\n",
       " 'LandContour': 0,\n",
       " 'Utilities': 0,\n",
       " 'LotConfig': 0,\n",
       " 'LandSlope': 0,\n",
       " 'Neighborhood': 0,\n",
       " 'Condition1': 0,\n",
       " 'Condition2': 0,\n",
       " 'BldgType': 0,\n",
       " 'HouseStyle': 0,\n",
       " 'OverallQual': 0,\n",
       " 'OverallCond': 0,\n",
       " 'RoofStyle': 0,\n",
       " 'RoofMatl': 0,\n",
       " 'Exterior1st': 0,\n",
       " 'Exterior2nd': 0,\n",
       " 'MasVnrType': 858,\n",
       " 'MasVnrArea': 7,\n",
       " 'ExterQual': 0,\n",
       " 'ExterCond': 0,\n",
       " 'Foundation': 0,\n",
       " 'BsmtQual': 37,\n",
       " 'BsmtCond': 37,\n",
       " 'BsmtExposure': 38,\n",
       " 'BsmtFinType1': 37,\n",
       " 'BsmtFinType2': 38,\n",
       " 'Heating': 0,\n",
       " 'HeatingQC': 0,\n",
       " 'CentralAir': 0,\n",
       " 'Electrical': 1,\n",
       " 'KitchenQual': 0,\n",
       " 'Functional': 0,\n",
       " 'FireplaceQu': 688,\n",
       " 'GarageType': 81,\n",
       " 'GarageFinish': 81,\n",
       " 'GarageQual': 81,\n",
       " 'GarageCond': 81,\n",
       " 'PavedDrive': 0,\n",
       " 'PoolQC': 1381,\n",
       " 'Fence': 1110,\n",
       " 'MiscFeature': 1333,\n",
       " 'MoSold': 0,\n",
       " 'SaleType': 0,\n",
       " 'SaleCondition': 0,\n",
       " 'YrSold': 0,\n",
       " 'LotFrontage': 255,\n",
       " 'LotArea': 0,\n",
       " 'BsmtFinSF1': 0,\n",
       " 'BsmtFinSF2': 0,\n",
       " 'BsmtUnfSF': 0,\n",
       " 'TotalBsmtSF': 0,\n",
       " '1stFlrSF': 0,\n",
       " '2ndFlrSF': 0,\n",
       " 'LowQualFinSF': 0,\n",
       " 'GrLivArea': 0,\n",
       " 'GarageArea': 0,\n",
       " 'WoodDeckSF': 0,\n",
       " 'OpenPorchSF': 0,\n",
       " 'EnclosedPorch': 0,\n",
       " '3SsnPorch': 0,\n",
       " 'ScreenPorch': 0,\n",
       " 'PoolArea': 0,\n",
       " 'MiscVal': 0,\n",
       " 'Age': 0,\n",
       " 'RemodelAge': 0,\n",
       " 'GarageAge': 0,\n",
       " 'BsmtFullBath': 0,\n",
       " 'BsmtHalfBath': 0,\n",
       " 'FullBath': 0,\n",
       " 'HalfBath': 0,\n",
       " 'BedroomAbvGr': 0,\n",
       " 'KitchenAbvGr': 0,\n",
       " 'TotRmsAbvGrd': 0,\n",
       " 'Fireplaces': 0,\n",
       " 'GarageCars': 0}"
      ]
     },
     "execution_count": 27,
     "metadata": {},
     "output_type": "execute_result"
    }
   ],
   "source": [
    "df[all_features].isnull().sum().to_dict()"
   ]
  },
  {
   "cell_type": "code",
   "execution_count": 28,
   "metadata": {},
   "outputs": [],
   "source": [
    "keep_columns = all_features + [target_column]"
   ]
  },
  {
   "cell_type": "code",
   "execution_count": 29,
   "metadata": {},
   "outputs": [],
   "source": [
    "# Split into train and test sets\n",
    "df_train, df_test = train_test_split(df[keep_columns], test_size=0.2, random_state=42)"
   ]
  },
  {
   "cell_type": "code",
   "execution_count": 30,
   "metadata": {},
   "outputs": [],
   "source": [
    "# Separate features and target\n",
    "X_train = df_train.drop(columns=[target_column])\n",
    "y_train = df_train[target_column]\n",
    "X_test = df_test.drop(columns=[target_column])\n",
    "y_test = df_test[target_column]"
   ]
  },
  {
   "cell_type": "code",
   "execution_count": 31,
   "metadata": {},
   "outputs": [
    {
     "name": "stdout",
     "output_type": "stream",
     "text": [
      "{'LotFrontage': 69.33661202185792, 'LotArea': 10020.197475202885, 'BsmtFinSF1': 418.4652840396754, 'BsmtFinSF2': 46.30297565374211, 'BsmtUnfSF': 555.5770964833183, 'TotalBsmtSF': 1020.3453561767358, '1stFlrSF': 1126.4544634806132, '2ndFlrSF': 339.28133453561765, 'LowQualFinSF': 6.881875563570785, 'GrLivArea': 1472.6176735798017, 'GarageArea': 459.0135256988278, 'WoodDeckSF': 87.95401262398558, 'OpenPorchSF': 44.67899008115419, 'EnclosedPorch': 22.064021641118124, '3SsnPorch': 3.5680793507664563, 'ScreenPorch': 15.030658250676286, 'PoolArea': 3.1316501352569883, 'MiscVal': 50.685302073940484, 'BsmtFullBath': 0.4012623985572588, 'BsmtHalfBath': 0.06492335437330929, 'FullBath': 1.545536519386835, 'HalfBath': 0.36880072137060416, 'BedroomAbvGr': 2.8584310189359785, 'KitchenAbvGr': 1.0513976555455364, 'TotRmsAbvGrd': 6.403065825067628, 'Fireplaces': 0.5960324616771867, 'GarageCars': 1.7141568981064021, 'MSSubClass': 20, 'MSZoning': 'RL', 'Street': 'Pave', 'Alley': 'Grvl', 'LotShape': 'Reg', 'LandContour': 'Lvl', 'Utilities': 'AllPub', 'LotConfig': 'Inside', 'LandSlope': 'Gtl', 'Neighborhood': 'NAmes', 'Condition1': 'Norm', 'Condition2': 'Norm', 'BldgType': '1Fam', 'HouseStyle': '1Story', 'OverallQual': 5, 'OverallCond': 5, 'RoofStyle': 'Gable', 'RoofMatl': 'CompShg', 'Exterior1st': 'VinylSd', 'Exterior2nd': 'VinylSd', 'MasVnrType': 'BrkFace', 'MasVnrArea': 0.0, 'ExterQual': 'TA', 'ExterCond': 'TA', 'Foundation': 'CBlock', 'BsmtQual': 'TA', 'BsmtCond': 'TA', 'BsmtExposure': 'No', 'BsmtFinType1': 'Unf', 'BsmtFinType2': 'Unf', 'Heating': 'GasA', 'HeatingQC': 'Ex', 'CentralAir': 'Y', 'Electrical': 'SBrkr', 'KitchenQual': 'TA', 'Functional': 'Typ', 'FireplaceQu': 'Gd', 'GarageType': 'Attchd', 'GarageFinish': 'Unf', 'GarageQual': 'TA', 'GarageCond': 'TA', 'PavedDrive': 'Y', 'PoolQC': 'Gd', 'Fence': 'MnPrv', 'MiscFeature': 'Shed', 'MoSold': 6, 'SaleType': 'WD', 'SaleCondition': 'Normal', 'YrSold': 2007}\n"
     ]
    }
   ],
   "source": [
    "imputation_map = compute_imputation_values(\n",
    "    X_train, \n",
    "    categorical_features=categorical_features, \n",
    "    numerical_features=log_transformed_features + rem_numerical_features\n",
    ")\n",
    "\n",
    "print(imputation_map)"
   ]
  },
  {
   "cell_type": "code",
   "execution_count": 32,
   "metadata": {},
   "outputs": [],
   "source": [
    "def prepare_lightgbm_categorical(df, features):\n",
    "    # Convert categorical features to the appropriate types\n",
    "    for fn in features:\n",
    "        if df[fn].dtype == 'bool':\n",
    "            # Convert boolean features to int\n",
    "            df[fn] = df[fn].astype(int)\n",
    "        else:\n",
    "            # For string categorical features, set dtype as 'category'\n",
    "            df[fn] = df[fn].astype('category')\n",
    "    return df\n",
    "\n",
    "def many_log_bin_numerical(df, features):\n",
    "    for fn in features:\n",
    "        df[fn] = df[fn].apply(log_bin_numerical)\n",
    "    return df\n",
    "\n",
    "def many_log_numerical(df, features):\n",
    "    for fn in features:\n",
    "        df[fn] = df[fn].apply(log_numerical)\n",
    "    return df"
   ]
  },
  {
   "cell_type": "code",
   "execution_count": 33,
   "metadata": {},
   "outputs": [],
   "source": [
    "X_train = fill_missing_values(X_train, imputation_map)\n",
    "X_test = fill_missing_values(X_test, imputation_map)"
   ]
  },
  {
   "cell_type": "code",
   "execution_count": 34,
   "metadata": {},
   "outputs": [],
   "source": [
    "X_train = many_log_bin_numerical(X_train, log_bin_transformed_features)\n",
    "X_train = many_log_numerical(X_train, log_transformed_features)\n",
    "X_train = prepare_lightgbm_categorical(X_train, categorical_features + log_bin_transformed_features)\n",
    "\n",
    "X_test = many_log_bin_numerical(X_test, log_bin_transformed_features)\n",
    "X_test = many_log_numerical(X_test, log_transformed_features)\n",
    "X_test = prepare_lightgbm_categorical(X_test, categorical_features + log_bin_transformed_features)"
   ]
  },
  {
   "cell_type": "code",
   "execution_count": 35,
   "metadata": {},
   "outputs": [],
   "source": [
    "# Prepare LightGBM datasets\n",
    "train_data = lgb.Dataset(X_train, label=y_train, categorical_feature=categorical_features, free_raw_data=False)\n",
    "test_data = lgb.Dataset(X_test, label=y_test, categorical_feature=categorical_features, reference=train_data, free_raw_data=False)"
   ]
  },
  {
   "cell_type": "code",
   "execution_count": 36,
   "metadata": {},
   "outputs": [
    {
     "name": "stdout",
     "output_type": "stream",
     "text": [
      "[LightGBM] [Info] Auto-choosing col-wise multi-threading, the overhead of testing was 0.003107 seconds.\n",
      "You can set `force_col_wise=true` to remove the overhead.\n",
      "[LightGBM] [Info] Total Bins 2993\n",
      "[LightGBM] [Info] Number of data points in the train set: 1109, number of used features: 79\n",
      "[LightGBM] [Info] Start training from score 11.982134\n",
      "Training until validation scores don't improve for 50 rounds\n",
      "[10]\ttrain's l2: 0.0548089\ttest's l2: 0.0704741\n",
      "[20]\ttrain's l2: 0.0285041\ttest's l2: 0.0432521\n",
      "[30]\ttrain's l2: 0.0169086\ttest's l2: 0.0307865\n",
      "[40]\ttrain's l2: 0.0113411\ttest's l2: 0.0250937\n",
      "[50]\ttrain's l2: 0.0084561\ttest's l2: 0.0222632\n",
      "[60]\ttrain's l2: 0.00669545\ttest's l2: 0.0206948\n",
      "[70]\ttrain's l2: 0.00550373\ttest's l2: 0.0195782\n",
      "[80]\ttrain's l2: 0.00468034\ttest's l2: 0.0189546\n",
      "[90]\ttrain's l2: 0.00404658\ttest's l2: 0.0185872\n",
      "[100]\ttrain's l2: 0.00353539\ttest's l2: 0.0184577\n",
      "[110]\ttrain's l2: 0.00309537\ttest's l2: 0.0182776\n",
      "[120]\ttrain's l2: 0.00272825\ttest's l2: 0.0181534\n",
      "[130]\ttrain's l2: 0.00239151\ttest's l2: 0.0182153\n",
      "[140]\ttrain's l2: 0.00211463\ttest's l2: 0.018092\n",
      "[150]\ttrain's l2: 0.00187737\ttest's l2: 0.0180246\n",
      "[160]\ttrain's l2: 0.00167251\ttest's l2: 0.0179378\n",
      "[170]\ttrain's l2: 0.00149208\ttest's l2: 0.0179437\n",
      "[180]\ttrain's l2: 0.00133307\ttest's l2: 0.017917\n",
      "[190]\ttrain's l2: 0.00119712\ttest's l2: 0.0178811\n",
      "[200]\ttrain's l2: 0.00107399\ttest's l2: 0.0178275\n",
      "[210]\ttrain's l2: 0.000961962\ttest's l2: 0.0178499\n",
      "[220]\ttrain's l2: 0.000866679\ttest's l2: 0.0179185\n",
      "[230]\ttrain's l2: 0.000780806\ttest's l2: 0.0179426\n",
      "[240]\ttrain's l2: 0.000709349\ttest's l2: 0.0179381\n",
      "Early stopping, best iteration is:\n",
      "[199]\ttrain's l2: 0.00108822\ttest's l2: 0.0178089\n"
     ]
    }
   ],
   "source": [
    "# LightGBM parameters\n",
    "params = {\n",
    "    'objective': 'regression',\n",
    "    'metric': 'mse',\n",
    "    'boosting_type': 'gbdt',\n",
    "    'learning_rate': 0.05,\n",
    "    'num_leaves': 31,\n",
    "    'feature_pre_filter': False  # Avoid errors with categorical features\n",
    "}\n",
    "\n",
    "# Train LightGBM model with callbacks\n",
    "model = lgb.train(\n",
    "    params,\n",
    "    train_data,\n",
    "    num_boost_round=1000,\n",
    "    valid_sets=[train_data, test_data],  # Validation sets\n",
    "    valid_names=['train', 'test'],\n",
    "    callbacks=[\n",
    "        lgb.early_stopping(stopping_rounds=50),  # Early stopping\n",
    "        lgb.log_evaluation(period=10)           # Log evaluation every 10 iterations\n",
    "    ]\n",
    ")"
   ]
  },
  {
   "cell_type": "code",
   "execution_count": null,
   "metadata": {},
   "outputs": [
    {
     "name": "stdout",
     "output_type": "stream",
     "text": [
      "Final Test AUC: 0.8720\n"
     ]
    }
   ],
   "source": [
    "# Evaluate the model\n",
    "y_pred = model.predict(X_test, num_iteration=model.best_iteration)\n",
    "r2_score_ = r2_score(y_test, y_pred)\n",
    "print(f\"Final Test R2: {r2_score_:.4f}\")"
   ]
  },
  {
   "cell_type": "code",
   "execution_count": 38,
   "metadata": {},
   "outputs": [
    {
     "data": {
      "text/html": [
       "<div>\n",
       "<style scoped>\n",
       "    .dataframe tbody tr th:only-of-type {\n",
       "        vertical-align: middle;\n",
       "    }\n",
       "\n",
       "    .dataframe tbody tr th {\n",
       "        vertical-align: top;\n",
       "    }\n",
       "\n",
       "    .dataframe thead th {\n",
       "        text-align: right;\n",
       "    }\n",
       "</style>\n",
       "<table border=\"1\" class=\"dataframe\">\n",
       "  <thead>\n",
       "    <tr style=\"text-align: right;\">\n",
       "      <th></th>\n",
       "      <th>Feature</th>\n",
       "      <th>Importance</th>\n",
       "    </tr>\n",
       "  </thead>\n",
       "  <tbody>\n",
       "    <tr>\n",
       "      <th>14</th>\n",
       "      <td>OverallQual</td>\n",
       "      <td>371.682809</td>\n",
       "    </tr>\n",
       "    <tr>\n",
       "      <th>58</th>\n",
       "      <td>GrLivArea</td>\n",
       "      <td>212.729993</td>\n",
       "    </tr>\n",
       "    <tr>\n",
       "      <th>9</th>\n",
       "      <td>Neighborhood</td>\n",
       "      <td>208.805372</td>\n",
       "    </tr>\n",
       "    <tr>\n",
       "      <th>54</th>\n",
       "      <td>TotalBsmtSF</td>\n",
       "      <td>88.898171</td>\n",
       "    </tr>\n",
       "    <tr>\n",
       "      <th>59</th>\n",
       "      <td>GarageArea</td>\n",
       "      <td>54.749420</td>\n",
       "    </tr>\n",
       "    <tr>\n",
       "      <th>...</th>\n",
       "      <td>...</td>\n",
       "      <td>...</td>\n",
       "    </tr>\n",
       "    <tr>\n",
       "      <th>42</th>\n",
       "      <td>PoolQC</td>\n",
       "      <td>0.000000</td>\n",
       "    </tr>\n",
       "    <tr>\n",
       "      <th>57</th>\n",
       "      <td>LowQualFinSF</td>\n",
       "      <td>0.000000</td>\n",
       "    </tr>\n",
       "    <tr>\n",
       "      <th>65</th>\n",
       "      <td>PoolArea</td>\n",
       "      <td>0.000000</td>\n",
       "    </tr>\n",
       "    <tr>\n",
       "      <th>66</th>\n",
       "      <td>MiscVal</td>\n",
       "      <td>0.000000</td>\n",
       "    </tr>\n",
       "    <tr>\n",
       "      <th>63</th>\n",
       "      <td>3SsnPorch</td>\n",
       "      <td>0.000000</td>\n",
       "    </tr>\n",
       "  </tbody>\n",
       "</table>\n",
       "<p>79 rows × 2 columns</p>\n",
       "</div>"
      ],
      "text/plain": [
       "         Feature  Importance\n",
       "14   OverallQual  371.682809\n",
       "58     GrLivArea  212.729993\n",
       "9   Neighborhood  208.805372\n",
       "54   TotalBsmtSF   88.898171\n",
       "59    GarageArea   54.749420\n",
       "..           ...         ...\n",
       "42        PoolQC    0.000000\n",
       "57  LowQualFinSF    0.000000\n",
       "65      PoolArea    0.000000\n",
       "66       MiscVal    0.000000\n",
       "63     3SsnPorch    0.000000\n",
       "\n",
       "[79 rows x 2 columns]"
      ]
     },
     "metadata": {},
     "output_type": "display_data"
    }
   ],
   "source": [
    "# Feature importance\n",
    "importance = model.feature_importance(importance_type='gain')\n",
    "feature_importance = pd.DataFrame({\n",
    "    'Feature': X_train.columns,\n",
    "    'Importance': importance\n",
    "}).sort_values(by='Importance', ascending=False)\n",
    "display(feature_importance)"
   ]
  },
  {
   "cell_type": "markdown",
   "metadata": {},
   "source": [
    "### Hyperparameter tuning"
   ]
  },
  {
   "cell_type": "code",
   "execution_count": 39,
   "metadata": {},
   "outputs": [],
   "source": [
    "# Define objective function for Optuna\n",
    "def objective(trial):\n",
    "    params = {\n",
    "        \"objective\": \"regression\",\n",
    "        \"metric\": \"mse\",\n",
    "        \"verbosity\": -1,\n",
    "        \"boosting_type\": \"gbdt\",\n",
    "        \"learning_rate\": trial.suggest_float(\"learning_rate\", 1e-3, 0.3, log=True),\n",
    "        \"num_leaves\": trial.suggest_int(\"num_leaves\", 5, 20),\n",
    "        \"max_depth\": trial.suggest_int(\"max_depth\", 3, 7),\n",
    "        \"min_child_samples\": trial.suggest_int(\"min_child_samples\", 5, 50),\n",
    "        \"min_child_weight\": trial.suggest_float(\"min_child_weight\", 1e-3, 1.0, log=True),\n",
    "        \"subsample\": trial.suggest_float(\"subsample\", 0.5, 1.0),\n",
    "        \"colsample_bytree\": trial.suggest_float(\"colsample_bytree\", 0.5, 1.0),\n",
    "        \"reg_alpha\": trial.suggest_float(\"reg_alpha\", 1e-3, 10.0, log=True),\n",
    "        \"reg_lambda\": trial.suggest_float(\"reg_lambda\", 1e-3, 10.0, log=True),\n",
    "    }\n",
    "\n",
    "    train_data = lgb.Dataset(X_train, label=y_train, free_raw_data=False)\n",
    "    valid_data = lgb.Dataset(X_test, label=y_test, reference=train_data, free_raw_data=False)\n",
    "\n",
    "    # Train LightGBM model with callbacks\n",
    "    model = lgb.train(\n",
    "        params,\n",
    "        train_data,\n",
    "        num_boost_round=100,\n",
    "        valid_sets=[train_data, valid_data],  # Validation sets\n",
    "        valid_names=['train', 'valid'],\n",
    "        # verbose_eval=False,\n",
    "        callbacks=[\n",
    "            lgb.early_stopping(stopping_rounds=50),  # Early stopping\n",
    "            lgb.log_evaluation(period=100)           # Log evaluation every 10 iterations\n",
    "        ]\n",
    "    )\n",
    "\n",
    "    preds = model.predict(X_test)\n",
    "    r2_score_ = r2_score(y_test, preds)\n",
    "    return r2_score_"
   ]
  },
  {
   "cell_type": "code",
   "execution_count": 40,
   "metadata": {},
   "outputs": [
    {
     "name": "stderr",
     "output_type": "stream",
     "text": [
      "[I 2024-11-29 04:40:21,978] A new study created in memory with name: no-name-d595c742-3608-470b-a72d-7ef573f4dc74\n"
     ]
    },
    {
     "data": {
      "application/vnd.jupyter.widget-view+json": {
       "model_id": "15f95548ba024a9b9a39382fbaa36b54",
       "version_major": 2,
       "version_minor": 0
      },
      "text/plain": [
       "  0%|          | 0/50 [00:00<?, ?it/s]"
      ]
     },
     "metadata": {},
     "output_type": "display_data"
    },
    {
     "name": "stdout",
     "output_type": "stream",
     "text": [
      "Training until validation scores don't improve for 50 rounds\n",
      "[100]\ttrain's l2: 0.0480552\tvalid's l2: 0.0622732\n",
      "Did not meet early stopping. Best iteration is:\n",
      "[100]\ttrain's l2: 0.0480552\tvalid's l2: 0.0622732\n",
      "[I 2024-11-29 04:40:25,148] Trial 0 finished with value: 0.5524306962038267 and parameters: {'learning_rate': 0.008468008575248327, 'num_leaves': 20, 'max_depth': 6, 'min_child_samples': 32, 'min_child_weight': 0.0029380279387035343, 'subsample': 0.5779972601681014, 'colsample_bytree': 0.5290418060840998, 'reg_alpha': 2.9154431891537547, 'reg_lambda': 0.2537815508265665}. Best is trial 0 with value: 0.5524306962038267.\n",
      "Training until validation scores don't improve for 50 rounds\n",
      "[100]\ttrain's l2: 0.0113668\tvalid's l2: 0.0182755\n",
      "Did not meet early stopping. Best iteration is:\n",
      "[100]\ttrain's l2: 0.0113668\tvalid's l2: 0.0182755\n",
      "[I 2024-11-29 04:40:25,749] Trial 1 finished with value: 0.8686508303451437 and parameters: {'learning_rate': 0.05675206026988748, 'num_leaves': 5, 'max_depth': 7, 'min_child_samples': 43, 'min_child_weight': 0.004335281794951566, 'subsample': 0.5909124836035503, 'colsample_bytree': 0.5917022549267169, 'reg_alpha': 0.016480446427978974, 'reg_lambda': 0.12561043700013558}. Best is trial 1 with value: 0.8686508303451437.\n",
      "Training until validation scores don't improve for 50 rounds\n",
      "[100]\ttrain's l2: 0.0353115\tvalid's l2: 0.0473498\n",
      "Did not meet early stopping. Best iteration is:\n",
      "[100]\ttrain's l2: 0.0353115\tvalid's l2: 0.0473498\n",
      "[I 2024-11-29 04:40:27,624] Trial 2 finished with value: 0.6596881651529909 and parameters: {'learning_rate': 0.01174843954800703, 'num_leaves': 9, 'max_depth': 6, 'min_child_samples': 11, 'min_child_weight': 0.007523742884534853, 'subsample': 0.6831809216468459, 'colsample_bytree': 0.728034992108518, 'reg_alpha': 1.382623217936987, 'reg_lambda': 0.006290644294586149}. Best is trial 1 with value: 0.8686508303451437.\n",
      "Training until validation scores don't improve for 50 rounds\n",
      "[100]\ttrain's l2: 0.031907\tvalid's l2: 0.043643\n",
      "Did not meet early stopping. Best iteration is:\n",
      "[100]\ttrain's l2: 0.031907\tvalid's l2: 0.043643\n",
      "[I 2024-11-29 04:40:29,114] Trial 3 finished with value: 0.6863300932815692 and parameters: {'learning_rate': 0.018785426399210624, 'num_leaves': 14, 'max_depth': 3, 'min_child_samples': 32, 'min_child_weight': 0.0032476735706274485, 'subsample': 0.5325257964926398, 'colsample_bytree': 0.9744427686266666, 'reg_alpha': 7.2866537374910445, 'reg_lambda': 1.7123375973163988}. Best is trial 1 with value: 0.8686508303451437.\n",
      "Training until validation scores don't improve for 50 rounds\n",
      "[100]\ttrain's l2: 0.0675293\tvalid's l2: 0.0835145\n",
      "Did not meet early stopping. Best iteration is:\n",
      "[100]\ttrain's l2: 0.0675293\tvalid's l2: 0.0835145\n",
      "[I 2024-11-29 04:40:33,275] Trial 4 finished with value: 0.3997656936772047 and parameters: {'learning_rate': 0.0056828375585122656, 'num_leaves': 6, 'max_depth': 6, 'min_child_samples': 25, 'min_child_weight': 0.002323350351539011, 'subsample': 0.7475884550556351, 'colsample_bytree': 0.5171942605576092, 'reg_alpha': 4.337920697490942, 'reg_lambda': 0.010842262717330166}. Best is trial 1 with value: 0.8686508303451437.\n",
      "Training until validation scores don't improve for 50 rounds\n",
      "[100]\ttrain's l2: 0.0169181\tvalid's l2: 0.0257255\n",
      "Did not meet early stopping. Best iteration is:\n",
      "[100]\ttrain's l2: 0.0169181\tvalid's l2: 0.0257255\n",
      "[I 2024-11-29 04:40:34,600] Trial 5 finished with value: 0.8151063634339771 and parameters: {'learning_rate': 0.043767126303409544, 'num_leaves': 9, 'max_depth': 5, 'min_child_samples': 30, 'min_child_weight': 0.0035856126103453977, 'subsample': 0.9847923138822793, 'colsample_bytree': 0.8875664116805573, 'reg_alpha': 5.727904470799623, 'reg_lambda': 3.7958531426706403}. Best is trial 1 with value: 0.8686508303451437.\n",
      "Training until validation scores don't improve for 50 rounds\n",
      "[100]\ttrain's l2: 0.0142011\tvalid's l2: 0.0225784\n",
      "Did not meet early stopping. Best iteration is:\n",
      "[100]\ttrain's l2: 0.0142011\tvalid's l2: 0.0225784\n",
      "[I 2024-11-29 04:40:35,637] Trial 6 finished with value: 0.8377246256639655 and parameters: {'learning_rate': 0.03027406546455652, 'num_leaves': 19, 'max_depth': 3, 'min_child_samples': 14, 'min_child_weight': 0.0013667272915456222, 'subsample': 0.6626651653816322, 'colsample_bytree': 0.6943386448447411, 'reg_alpha': 0.01217295809836997, 'reg_lambda': 2.0651425578959257}. Best is trial 1 with value: 0.8686508303451437.\n",
      "Training until validation scores don't improve for 50 rounds\n",
      "[100]\ttrain's l2: 0.0493853\tvalid's l2: 0.0636598\n",
      "Did not meet early stopping. Best iteration is:\n",
      "[100]\ttrain's l2: 0.0493853\tvalid's l2: 0.0636598\n",
      "[I 2024-11-29 04:40:37,501] Trial 7 finished with value: 0.5424654085192271 and parameters: {'learning_rate': 0.0076510536667541975, 'num_leaves': 9, 'max_depth': 5, 'min_child_samples': 11, 'min_child_weight': 0.2550298070162892, 'subsample': 0.5372753218398854, 'colsample_bytree': 0.9934434683002586, 'reg_alpha': 1.2273800987852967, 'reg_lambda': 0.0062353771356731605}. Best is trial 1 with value: 0.8686508303451437.\n",
      "Training until validation scores don't improve for 50 rounds\n",
      "[100]\ttrain's l2: 0.102696\tvalid's l2: 0.122327\n",
      "Did not meet early stopping. Best iteration is:\n",
      "[100]\ttrain's l2: 0.102696\tvalid's l2: 0.122327\n",
      "[I 2024-11-29 04:40:43,685] Trial 8 finished with value: 0.12081379745246146 and parameters: {'learning_rate': 0.0010319982330247674, 'num_leaves': 18, 'max_depth': 6, 'min_child_samples': 38, 'min_child_weight': 0.20597335357437188, 'subsample': 0.5370223258670452, 'colsample_bytree': 0.6792328642721364, 'reg_alpha': 0.0029072088906598446, 'reg_lambda': 2.8340904295147746}. Best is trial 1 with value: 0.8686508303451437.\n",
      "Training until validation scores don't improve for 50 rounds\n",
      "[100]\ttrain's l2: 0.0170948\tvalid's l2: 0.0255356\n",
      "Did not meet early stopping. Best iteration is:\n",
      "[100]\ttrain's l2: 0.0170948\tvalid's l2: 0.0255356\n",
      "[I 2024-11-29 04:40:44,797] Trial 9 finished with value: 0.8164710199127433 and parameters: {'learning_rate': 0.03499331111708852, 'num_leaves': 10, 'max_depth': 3, 'min_child_samples': 19, 'min_child_weight': 0.009452571391072306, 'subsample': 0.864803089169032, 'colsample_bytree': 0.8187787356776066, 'reg_alpha': 3.53875886477924, 'reg_lambda': 0.0774211647399625}. Best is trial 1 with value: 0.8686508303451437.\n",
      "Training until validation scores don't improve for 50 rounds\n",
      "[100]\ttrain's l2: 0.0892859\tvalid's l2: 0.107222\n",
      "Did not meet early stopping. Best iteration is:\n",
      "[100]\ttrain's l2: 0.0892859\tvalid's l2: 0.107222\n",
      "[I 2024-11-29 04:40:48,650] Trial 10 finished with value: 0.22937753816287743 and parameters: {'learning_rate': 0.0019781054912383746, 'num_leaves': 16, 'max_depth': 6, 'min_child_samples': 30, 'min_child_weight': 0.2055424552015074, 'subsample': 0.7468977981821954, 'colsample_bytree': 0.7613664146909971, 'reg_alpha': 0.05130551760589835, 'reg_lambda': 0.0012637946338082875}. Best is trial 1 with value: 0.8686508303451437.\n",
      "Training until validation scores don't improve for 50 rounds\n",
      "[100]\ttrain's l2: 0.0962464\tvalid's l2: 0.114914\n",
      "Did not meet early stopping. Best iteration is:\n",
      "[100]\ttrain's l2: 0.0962464\tvalid's l2: 0.114914\n",
      "[I 2024-11-29 04:40:49,629] Trial 11 finished with value: 0.1740949947856033 and parameters: {'learning_rate': 0.0018503766823590125, 'num_leaves': 5, 'max_depth': 6, 'min_child_samples': 19, 'min_child_weight': 0.033551510227214816, 'subsample': 0.9537832369630466, 'colsample_bytree': 0.6246461145744375, 'reg_alpha': 0.04380580767905655, 'reg_lambda': 1.0524574681335637}. Best is trial 1 with value: 0.8686508303451437.\n",
      "Training until validation scores don't improve for 50 rounds\n",
      "[100]\ttrain's l2: 0.0798283\tvalid's l2: 0.097251\n",
      "Did not meet early stopping. Best iteration is:\n",
      "[100]\ttrain's l2: 0.0798283\tvalid's l2: 0.097251\n",
      "[I 2024-11-29 04:40:50,737] Trial 12 finished with value: 0.3010390190990918 and parameters: {'learning_rate': 0.0036877442861551015, 'num_leaves': 6, 'max_depth': 4, 'min_child_samples': 12, 'min_child_weight': 0.615308560162531, 'subsample': 0.9040601897822085, 'colsample_bytree': 0.8167018782552118, 'reg_alpha': 3.06085221067225, 'reg_lambda': 1.6394127471631603}. Best is trial 1 with value: 0.8686508303451437.\n",
      "Training until validation scores don't improve for 50 rounds\n",
      "[100]\ttrain's l2: 0.0795857\tvalid's l2: 0.0968532\n",
      "Did not meet early stopping. Best iteration is:\n",
      "[100]\ttrain's l2: 0.0795857\tvalid's l2: 0.0968532\n",
      "[I 2024-11-29 04:40:54,546] Trial 13 finished with value: 0.3038983121244375 and parameters: {'learning_rate': 0.002898388903702674, 'num_leaves': 19, 'max_depth': 5, 'min_child_samples': 42, 'min_child_weight': 0.4878360603452141, 'subsample': 0.6590017374859319, 'colsample_bytree': 0.5550259622638384, 'reg_alpha': 0.008160948743089917, 'reg_lambda': 0.05110120656497164}. Best is trial 1 with value: 0.8686508303451437.\n",
      "Training until validation scores don't improve for 50 rounds\n",
      "[100]\ttrain's l2: 0.00739299\tvalid's l2: 0.0172937\n",
      "Did not meet early stopping. Best iteration is:\n",
      "[100]\ttrain's l2: 0.00739299\tvalid's l2: 0.0172937\n",
      "[I 2024-11-29 04:40:55,638] Trial 14 finished with value: 0.8757069502981585 and parameters: {'learning_rate': 0.10624824455988377, 'num_leaves': 18, 'max_depth': 3, 'min_child_samples': 28, 'min_child_weight': 0.01787446325623841, 'subsample': 0.6110539052353652, 'colsample_bytree': 0.5599326836668415, 'reg_alpha': 0.022410971619109515, 'reg_lambda': 5.910698619088545}. Best is trial 14 with value: 0.8757069502981585.\n",
      "Training until validation scores don't improve for 50 rounds\n",
      "[100]\ttrain's l2: 0.0522373\tvalid's l2: 0.06673\n",
      "Did not meet early stopping. Best iteration is:\n",
      "[100]\ttrain's l2: 0.0522373\tvalid's l2: 0.06673\n",
      "[I 2024-11-29 04:41:00,625] Trial 15 finished with value: 0.5203989498905965 and parameters: {'learning_rate': 0.0063184834531394615, 'num_leaves': 13, 'max_depth': 6, 'min_child_samples': 21, 'min_child_weight': 0.8228984573308161, 'subsample': 0.9812236474710556, 'colsample_bytree': 0.6258911479126821, 'reg_alpha': 0.09749762207436122, 'reg_lambda': 0.015977662354833867}. Best is trial 14 with value: 0.8757069502981585.\n",
      "Training until validation scores don't improve for 50 rounds\n",
      "[100]\ttrain's l2: 0.0687303\tvalid's l2: 0.0844255\n",
      "Did not meet early stopping. Best iteration is:\n",
      "[100]\ttrain's l2: 0.0687303\tvalid's l2: 0.0844255\n",
      "[I 2024-11-29 04:41:02,629] Trial 16 finished with value: 0.3932181423408043 and parameters: {'learning_rate': 0.005076734398297609, 'num_leaves': 5, 'max_depth': 6, 'min_child_samples': 28, 'min_child_weight': 0.0014270403521460836, 'subsample': 0.6393232321183058, 'colsample_bytree': 0.9541329429833268, 'reg_alpha': 0.009083381663660588, 'reg_lambda': 0.003798214508453258}. Best is trial 14 with value: 0.8757069502981585.\n",
      "Training until validation scores don't improve for 50 rounds\n",
      "[100]\ttrain's l2: 0.0211983\tvalid's l2: 0.0324669\n",
      "Did not meet early stopping. Best iteration is:\n",
      "[100]\ttrain's l2: 0.0211983\tvalid's l2: 0.0324669\n",
      "[I 2024-11-29 04:41:05,638] Trial 17 finished with value: 0.7666546692240219 and parameters: {'learning_rate': 0.01630924420575675, 'num_leaves': 20, 'max_depth': 4, 'min_child_samples': 35, 'min_child_weight': 0.19268985325226207, 'subsample': 0.6188187719961998, 'colsample_bytree': 0.8641081743059298, 'reg_alpha': 0.029589152820953094, 'reg_lambda': 0.3382387201936217}. Best is trial 14 with value: 0.8757069502981585.\n",
      "Training until validation scores don't improve for 50 rounds\n",
      "[100]\ttrain's l2: 0.0131765\tvalid's l2: 0.0209542\n",
      "Did not meet early stopping. Best iteration is:\n",
      "[100]\ttrain's l2: 0.0131765\tvalid's l2: 0.0209542\n",
      "[I 2024-11-29 04:41:07,185] Trial 18 finished with value: 0.8493981560664069 and parameters: {'learning_rate': 0.037096241656107316, 'num_leaves': 13, 'max_depth': 3, 'min_child_samples': 43, 'min_child_weight': 0.009169384722192326, 'subsample': 0.5932592551999272, 'colsample_bytree': 0.520387570777382, 'reg_alpha': 0.2309786149269357, 'reg_lambda': 0.5131654955148326}. Best is trial 14 with value: 0.8757069502981585.\n",
      "Training until validation scores don't improve for 50 rounds\n",
      "[100]\ttrain's l2: 0.104495\tvalid's l2: 0.124448\n",
      "Did not meet early stopping. Best iteration is:\n",
      "[100]\ttrain's l2: 0.104495\tvalid's l2: 0.124448\n",
      "[I 2024-11-29 04:41:08,476] Trial 19 finished with value: 0.10556653877130717 and parameters: {'learning_rate': 0.0010992337739283895, 'num_leaves': 13, 'max_depth': 4, 'min_child_samples': 34, 'min_child_weight': 0.0033350264835699576, 'subsample': 0.845468869051233, 'colsample_bytree': 0.6933676731502687, 'reg_alpha': 5.583672722754823, 'reg_lambda': 0.003548818403010949}. Best is trial 14 with value: 0.8757069502981585.\n",
      "Training until validation scores don't improve for 50 rounds\n",
      "[100]\ttrain's l2: 0.0553709\tvalid's l2: 0.0693284\n",
      "Did not meet early stopping. Best iteration is:\n",
      "[100]\ttrain's l2: 0.0553709\tvalid's l2: 0.0693284\n",
      "[I 2024-11-29 04:41:10,417] Trial 20 finished with value: 0.5017241397509031 and parameters: {'learning_rate': 0.006996207914828167, 'num_leaves': 6, 'max_depth': 7, 'min_child_samples': 45, 'min_child_weight': 0.00594052575570193, 'subsample': 0.8299920230170895, 'colsample_bytree': 0.9086111001006079, 'reg_alpha': 0.16626592254031872, 'reg_lambda': 0.13140210226207386}. Best is trial 14 with value: 0.8757069502981585.\n",
      "Training until validation scores don't improve for 50 rounds\n",
      "[100]\ttrain's l2: 0.0764314\tvalid's l2: 0.0930927\n",
      "Did not meet early stopping. Best iteration is:\n",
      "[100]\ttrain's l2: 0.0764314\tvalid's l2: 0.0930927\n",
      "[I 2024-11-29 04:41:12,269] Trial 21 finished with value: 0.330925495757567 and parameters: {'learning_rate': 0.003972806843240043, 'num_leaves': 6, 'max_depth': 7, 'min_child_samples': 46, 'min_child_weight': 0.07930569433855142, 'subsample': 0.6695148955243504, 'colsample_bytree': 0.6746047873063304, 'reg_alpha': 0.8013508750140627, 'reg_lambda': 3.8765111709116318}. Best is trial 14 with value: 0.8757069502981585.\n",
      "Training until validation scores don't improve for 50 rounds\n",
      "[100]\ttrain's l2: 0.00088513\tvalid's l2: 0.0170163\n",
      "Did not meet early stopping. Best iteration is:\n",
      "[65]\ttrain's l2: 0.0019081\tvalid's l2: 0.0168393\n",
      "[I 2024-11-29 04:41:17,466] Trial 22 finished with value: 0.878972876035645 and parameters: {'learning_rate': 0.1575508085526967, 'num_leaves': 17, 'max_depth': 6, 'min_child_samples': 8, 'min_child_weight': 0.0030541203184433867, 'subsample': 0.9492770942635396, 'colsample_bytree': 0.803214529829795, 'reg_alpha': 0.0010883991813938126, 'reg_lambda': 0.002546162816127691}. Best is trial 22 with value: 0.878972876035645.\n",
      "Training until validation scores don't improve for 50 rounds\n",
      "[100]\ttrain's l2: 0.0138647\tvalid's l2: 0.0210019\n",
      "Did not meet early stopping. Best iteration is:\n",
      "[100]\ttrain's l2: 0.0138647\tvalid's l2: 0.0210019\n",
      "[I 2024-11-29 04:41:18,645] Trial 23 finished with value: 0.8490557658072659 and parameters: {'learning_rate': 0.04401232738598694, 'num_leaves': 5, 'max_depth': 3, 'min_child_samples': 30, 'min_child_weight': 0.11903799220250154, 'subsample': 0.8259806297513003, 'colsample_bytree': 0.61213465473028, 'reg_alpha': 0.7058572590901792, 'reg_lambda': 0.008891936446296251}. Best is trial 22 with value: 0.878972876035645.\n",
      "Training until validation scores don't improve for 50 rounds\n",
      "[100]\ttrain's l2: 0.051921\tvalid's l2: 0.0667377\n",
      "Did not meet early stopping. Best iteration is:\n",
      "[100]\ttrain's l2: 0.051921\tvalid's l2: 0.0667377\n",
      "[I 2024-11-29 04:41:23,145] Trial 24 finished with value: 0.5203437829506725 and parameters: {'learning_rate': 0.006398151340670027, 'num_leaves': 16, 'max_depth': 6, 'min_child_samples': 44, 'min_child_weight': 0.0939374305615398, 'subsample': 0.7841543016677358, 'colsample_bytree': 0.5468373839140462, 'reg_alpha': 0.029570809414943493, 'reg_lambda': 0.011502956321912736}. Best is trial 22 with value: 0.878972876035645.\n",
      "Training until validation scores don't improve for 50 rounds\n",
      "[100]\ttrain's l2: 0.0697852\tvalid's l2: 0.0859287\n",
      "Did not meet early stopping. Best iteration is:\n",
      "[100]\ttrain's l2: 0.0697852\tvalid's l2: 0.0859287\n",
      "[I 2024-11-29 04:41:24,541] Trial 25 finished with value: 0.382414444360355 and parameters: {'learning_rate': 0.004021535729341345, 'num_leaves': 20, 'max_depth': 4, 'min_child_samples': 46, 'min_child_weight': 0.07823766455329705, 'subsample': 0.8974056517708242, 'colsample_bytree': 0.751318546552596, 'reg_alpha': 0.20305586522289132, 'reg_lambda': 0.09334064019986364}. Best is trial 22 with value: 0.878972876035645.\n",
      "Training until validation scores don't improve for 50 rounds\n",
      "[100]\ttrain's l2: 0.0851694\tvalid's l2: 0.103432\n",
      "Did not meet early stopping. Best iteration is:\n",
      "[100]\ttrain's l2: 0.0851694\tvalid's l2: 0.103432\n",
      "[I 2024-11-29 04:41:26,117] Trial 26 finished with value: 0.25661612941591183 and parameters: {'learning_rate': 0.0030453734341095466, 'num_leaves': 16, 'max_depth': 4, 'min_child_samples': 6, 'min_child_weight': 0.08638073353835189, 'subsample': 0.5885553397035245, 'colsample_bytree': 0.9702292921764571, 'reg_alpha': 6.542056762893131, 'reg_lambda': 4.565176372646331}. Best is trial 22 with value: 0.878972876035645.\n",
      "Training until validation scores don't improve for 50 rounds\n",
      "[100]\ttrain's l2: 0.0515665\tvalid's l2: 0.064821\n",
      "Did not meet early stopping. Best iteration is:\n",
      "[100]\ttrain's l2: 0.0515665\tvalid's l2: 0.064821\n",
      "[I 2024-11-29 04:41:27,591] Trial 27 finished with value: 0.5341196168356134 and parameters: {'learning_rate': 0.008259009849110663, 'num_leaves': 5, 'max_depth': 7, 'min_child_samples': 24, 'min_child_weight': 0.794263229180113, 'subsample': 0.9818099885446264, 'colsample_bytree': 0.92650472773368, 'reg_alpha': 0.015058980408366392, 'reg_lambda': 0.03470490935437504}. Best is trial 22 with value: 0.878972876035645.\n",
      "Training until validation scores don't improve for 50 rounds\n",
      "[100]\ttrain's l2: 0.00600937\tvalid's l2: 0.0171109\n",
      "Did not meet early stopping. Best iteration is:\n",
      "[85]\ttrain's l2: 0.00664544\tvalid's l2: 0.0169465\n",
      "[I 2024-11-29 04:41:28,737] Trial 28 finished with value: 0.8782024141968603 and parameters: {'learning_rate': 0.128341981355511, 'num_leaves': 10, 'max_depth': 3, 'min_child_samples': 30, 'min_child_weight': 0.6433752092130683, 'subsample': 0.8480148983374864, 'colsample_bytree': 0.7850305850446825, 'reg_alpha': 0.0024474057445796832, 'reg_lambda': 0.2884223471687845}. Best is trial 22 with value: 0.878972876035645.\n",
      "Training until validation scores don't improve for 50 rounds\n",
      "Early stopping, best iteration is:\n",
      "[24]\ttrain's l2: 0.00945613\tvalid's l2: 0.0187256\n",
      "[I 2024-11-29 04:41:29,645] Trial 29 finished with value: 0.8654155697398317 and parameters: {'learning_rate': 0.283454551795776, 'num_leaves': 7, 'max_depth': 5, 'min_child_samples': 45, 'min_child_weight': 0.16684217902257087, 'subsample': 0.848507870497634, 'colsample_bytree': 0.8512420419935547, 'reg_alpha': 0.02741350741975827, 'reg_lambda': 0.014940577239079744}. Best is trial 22 with value: 0.878972876035645.\n",
      "Training until validation scores don't improve for 50 rounds\n",
      "[100]\ttrain's l2: 0.00481825\tvalid's l2: 0.0177849\n",
      "Did not meet early stopping. Best iteration is:\n",
      "[94]\ttrain's l2: 0.00510566\tvalid's l2: 0.0177366\n",
      "[I 2024-11-29 04:41:33,517] Trial 30 finished with value: 0.8725240479915326 and parameters: {'learning_rate': 0.10113133051262838, 'num_leaves': 17, 'max_depth': 7, 'min_child_samples': 47, 'min_child_weight': 0.03420008587735001, 'subsample': 0.7507581473435998, 'colsample_bytree': 0.8991475894833876, 'reg_alpha': 0.3979749374103114, 'reg_lambda': 0.6424916813668934}. Best is trial 22 with value: 0.878972876035645.\n",
      "Training until validation scores don't improve for 50 rounds\n",
      "[100]\ttrain's l2: 0.00514358\tvalid's l2: 0.0163342\n",
      "Did not meet early stopping. Best iteration is:\n",
      "[94]\ttrain's l2: 0.00531758\tvalid's l2: 0.0162721\n",
      "[I 2024-11-29 04:41:34,733] Trial 31 finished with value: 0.8830492498933261 and parameters: {'learning_rate': 0.09359980324420485, 'num_leaves': 19, 'max_depth': 4, 'min_child_samples': 22, 'min_child_weight': 0.0019140171266136662, 'subsample': 0.789140070498087, 'colsample_bytree': 0.517971136898371, 'reg_alpha': 0.0728437126516689, 'reg_lambda': 0.14810800730363496}. Best is trial 31 with value: 0.8830492498933261.\n",
      "Training until validation scores don't improve for 50 rounds\n",
      "[100]\ttrain's l2: 0.06505\tvalid's l2: 0.0800724\n",
      "Did not meet early stopping. Best iteration is:\n",
      "[100]\ttrain's l2: 0.06505\tvalid's l2: 0.0800724\n",
      "[I 2024-11-29 04:41:36,617] Trial 32 finished with value: 0.4245046051041673 and parameters: {'learning_rate': 0.005126222187253493, 'num_leaves': 14, 'max_depth': 3, 'min_child_samples': 6, 'min_child_weight': 0.29363084977630116, 'subsample': 0.6800953207056315, 'colsample_bytree': 0.5635302563259423, 'reg_alpha': 0.12273630375458194, 'reg_lambda': 1.2021930484915047}. Best is trial 31 with value: 0.8830492498933261.\n",
      "Training until validation scores don't improve for 50 rounds\n",
      "[100]\ttrain's l2: 0.080127\tvalid's l2: 0.0977208\n",
      "Did not meet early stopping. Best iteration is:\n",
      "[100]\ttrain's l2: 0.080127\tvalid's l2: 0.0977208\n",
      "[I 2024-11-29 04:41:37,637] Trial 33 finished with value: 0.2976629068021278 and parameters: {'learning_rate': 0.0034246394438317974, 'num_leaves': 14, 'max_depth': 3, 'min_child_samples': 7, 'min_child_weight': 0.03927027067477072, 'subsample': 0.7703175608050532, 'colsample_bytree': 0.8187149507491033, 'reg_alpha': 0.8023527304678846, 'reg_lambda': 8.005866020696466}. Best is trial 31 with value: 0.8830492498933261.\n",
      "Training until validation scores don't improve for 50 rounds\n",
      "[100]\ttrain's l2: 0.0312936\tvalid's l2: 0.0431726\n",
      "Did not meet early stopping. Best iteration is:\n",
      "[100]\ttrain's l2: 0.0312936\tvalid's l2: 0.0431726\n",
      "[I 2024-11-29 04:41:39,745] Trial 34 finished with value: 0.6897103393255686 and parameters: {'learning_rate': 0.01900809380697373, 'num_leaves': 10, 'max_depth': 6, 'min_child_samples': 17, 'min_child_weight': 0.02074503931008658, 'subsample': 0.5392281906711329, 'colsample_bytree': 0.5126753717077288, 'reg_alpha': 7.089141723796888, 'reg_lambda': 2.207600491318519}. Best is trial 31 with value: 0.8830492498933261.\n",
      "Training until validation scores don't improve for 50 rounds\n",
      "[100]\ttrain's l2: 0.00924668\tvalid's l2: 0.0184145\n",
      "Did not meet early stopping. Best iteration is:\n",
      "[100]\ttrain's l2: 0.00924668\tvalid's l2: 0.0184145\n",
      "[I 2024-11-29 04:41:40,733] Trial 35 finished with value: 0.8676514113927238 and parameters: {'learning_rate': 0.0529678687405566, 'num_leaves': 11, 'max_depth': 3, 'min_child_samples': 12, 'min_child_weight': 0.0056328565907811275, 'subsample': 0.7746133323530602, 'colsample_bytree': 0.8572979613500311, 'reg_alpha': 0.43731009905162666, 'reg_lambda': 0.013174543864342761}. Best is trial 31 with value: 0.8830492498933261.\n",
      "Training until validation scores don't improve for 50 rounds\n",
      "[100]\ttrain's l2: 0.00394919\tvalid's l2: 0.0182781\n",
      "Did not meet early stopping. Best iteration is:\n",
      "[69]\ttrain's l2: 0.00486419\tvalid's l2: 0.0180971\n",
      "[I 2024-11-29 04:41:42,585] Trial 36 finished with value: 0.869932863110882 and parameters: {'learning_rate': 0.2319087217474402, 'num_leaves': 16, 'max_depth': 5, 'min_child_samples': 33, 'min_child_weight': 0.018146805619521558, 'subsample': 0.6238654947505787, 'colsample_bytree': 0.6779863393256308, 'reg_alpha': 1.0749405395173413, 'reg_lambda': 0.0011417577140741143}. Best is trial 31 with value: 0.8830492498933261.\n",
      "Training until validation scores don't improve for 50 rounds\n",
      "[100]\ttrain's l2: 0.0955016\tvalid's l2: 0.114036\n",
      "Did not meet early stopping. Best iteration is:\n",
      "[100]\ttrain's l2: 0.0955016\tvalid's l2: 0.114036\n",
      "[I 2024-11-29 04:41:44,602] Trial 37 finished with value: 0.180400198254678 and parameters: {'learning_rate': 0.0019387687229904089, 'num_leaves': 5, 'max_depth': 3, 'min_child_samples': 44, 'min_child_weight': 0.12911407200549918, 'subsample': 0.7370869145436626, 'colsample_bytree': 0.5489170803255008, 'reg_alpha': 0.09256855841989636, 'reg_lambda': 0.07832259769732479}. Best is trial 31 with value: 0.8830492498933261.\n",
      "Training until validation scores don't improve for 50 rounds\n",
      "[100]\ttrain's l2: 0.083196\tvalid's l2: 0.100702\n",
      "Did not meet early stopping. Best iteration is:\n",
      "[100]\ttrain's l2: 0.083196\tvalid's l2: 0.100702\n",
      "[I 2024-11-29 04:41:46,189] Trial 38 finished with value: 0.27623813321488955 and parameters: {'learning_rate': 0.0026856043600395293, 'num_leaves': 11, 'max_depth': 4, 'min_child_samples': 33, 'min_child_weight': 0.08040461052901443, 'subsample': 0.5226520048860223, 'colsample_bytree': 0.6873063073132356, 'reg_alpha': 0.3187422711813415, 'reg_lambda': 0.10293072560417138}. Best is trial 31 with value: 0.8830492498933261.\n",
      "Training until validation scores don't improve for 50 rounds\n",
      "[100]\ttrain's l2: 0.0126657\tvalid's l2: 0.0203585\n",
      "Did not meet early stopping. Best iteration is:\n",
      "[80]\ttrain's l2: 0.0126669\tvalid's l2: 0.0203583\n",
      "[I 2024-11-29 04:41:49,125] Trial 39 finished with value: 0.8536814188676668 and parameters: {'learning_rate': 0.1323211266587386, 'num_leaves': 15, 'max_depth': 3, 'min_child_samples': 8, 'min_child_weight': 0.08457808244979334, 'subsample': 0.513255655270811, 'colsample_bytree': 0.7928877906367316, 'reg_alpha': 5.766615111348428, 'reg_lambda': 0.20039953593612145}. Best is trial 31 with value: 0.8830492498933261.\n",
      "Training until validation scores don't improve for 50 rounds\n",
      "[100]\ttrain's l2: 0.0467523\tvalid's l2: 0.0610225\n",
      "Did not meet early stopping. Best iteration is:\n",
      "[100]\ttrain's l2: 0.0467523\tvalid's l2: 0.0610225\n",
      "[I 2024-11-29 04:41:52,281] Trial 40 finished with value: 0.561420319586444 and parameters: {'learning_rate': 0.009152589294725112, 'num_leaves': 15, 'max_depth': 5, 'min_child_samples': 30, 'min_child_weight': 0.6674126383295353, 'subsample': 0.6930513189003871, 'colsample_bytree': 0.9805952819119571, 'reg_alpha': 4.182178526757455, 'reg_lambda': 0.006069662445477732}. Best is trial 31 with value: 0.8830492498933261.\n",
      "Training until validation scores don't improve for 50 rounds\n",
      "[100]\ttrain's l2: 0.0999272\tvalid's l2: 0.119298\n",
      "Did not meet early stopping. Best iteration is:\n",
      "[100]\ttrain's l2: 0.0999272\tvalid's l2: 0.119298\n",
      "[I 2024-11-29 04:41:53,777] Trial 41 finished with value: 0.1425816425046188 and parameters: {'learning_rate': 0.0014853074269608536, 'num_leaves': 6, 'max_depth': 3, 'min_child_samples': 9, 'min_child_weight': 0.11194902621864973, 'subsample': 0.5355943242301144, 'colsample_bytree': 0.6594878151468806, 'reg_alpha': 2.3960796124300754, 'reg_lambda': 0.0012390468928182036}. Best is trial 31 with value: 0.8830492498933261.\n",
      "Training until validation scores don't improve for 50 rounds\n",
      "[100]\ttrain's l2: 0.00857503\tvalid's l2: 0.0175772\n",
      "Did not meet early stopping. Best iteration is:\n",
      "[98]\ttrain's l2: 0.00865206\tvalid's l2: 0.0175562\n",
      "[I 2024-11-29 04:41:55,645] Trial 42 finished with value: 0.8738201234252931 and parameters: {'learning_rate': 0.10412072645029774, 'num_leaves': 9, 'max_depth': 3, 'min_child_samples': 37, 'min_child_weight': 0.07705991760932497, 'subsample': 0.9387360067635264, 'colsample_bytree': 0.8675355219019429, 'reg_alpha': 1.636529060071807, 'reg_lambda': 0.01343192599352813}. Best is trial 31 with value: 0.8830492498933261.\n",
      "Training until validation scores don't improve for 50 rounds\n",
      "[100]\ttrain's l2: 0.0827102\tvalid's l2: 0.100389\n",
      "Did not meet early stopping. Best iteration is:\n",
      "[100]\ttrain's l2: 0.0827102\tvalid's l2: 0.100389\n",
      "[I 2024-11-29 04:41:57,462] Trial 43 finished with value: 0.2784848914294087 and parameters: {'learning_rate': 0.0027513083443503725, 'num_leaves': 17, 'max_depth': 7, 'min_child_samples': 50, 'min_child_weight': 0.01729231072413805, 'subsample': 0.6860090428963916, 'colsample_bytree': 0.8882064803709984, 'reg_alpha': 0.02307884981527798, 'reg_lambda': 5.284809078673604}. Best is trial 31 with value: 0.8830492498933261.\n",
      "Training until validation scores don't improve for 50 rounds\n",
      "[100]\ttrain's l2: 0.00699021\tvalid's l2: 0.017066\n",
      "Did not meet early stopping. Best iteration is:\n",
      "[99]\ttrain's l2: 0.00701011\tvalid's l2: 0.0170508\n",
      "[I 2024-11-29 04:41:59,642] Trial 44 finished with value: 0.8774530738174199 and parameters: {'learning_rate': 0.13378039469082142, 'num_leaves': 11, 'max_depth': 6, 'min_child_samples': 39, 'min_child_weight': 0.0020387858300971347, 'subsample': 0.9512764533397833, 'colsample_bytree': 0.7526261862239285, 'reg_alpha': 2.022226812842965, 'reg_lambda': 0.019063314120324366}. Best is trial 31 with value: 0.8830492498933261.\n",
      "Training until validation scores don't improve for 50 rounds\n",
      "[100]\ttrain's l2: 0.0136169\tvalid's l2: 0.0213182\n",
      "Did not meet early stopping. Best iteration is:\n",
      "[88]\ttrain's l2: 0.0136169\tvalid's l2: 0.0213182\n",
      "[I 2024-11-29 04:42:00,537] Trial 45 finished with value: 0.8467825428057882 and parameters: {'learning_rate': 0.16531780236635635, 'num_leaves': 11, 'max_depth': 3, 'min_child_samples': 46, 'min_child_weight': 0.0018787112256023893, 'subsample': 0.6596568187952074, 'colsample_bytree': 0.9750309835254025, 'reg_alpha': 6.344955605329754, 'reg_lambda': 0.19667608399443096}. Best is trial 31 with value: 0.8830492498933261.\n",
      "Training until validation scores don't improve for 50 rounds\n",
      "[100]\ttrain's l2: 0.0116379\tvalid's l2: 0.0210827\n",
      "Did not meet early stopping. Best iteration is:\n",
      "[100]\ttrain's l2: 0.0116379\tvalid's l2: 0.0210827\n",
      "[I 2024-11-29 04:42:05,741] Trial 46 finished with value: 0.8484751394712059 and parameters: {'learning_rate': 0.03673985075591109, 'num_leaves': 12, 'max_depth': 4, 'min_child_samples': 20, 'min_child_weight': 0.1041250848298465, 'subsample': 0.87618726471884, 'colsample_bytree': 0.8957895218629243, 'reg_alpha': 1.4403650379563882, 'reg_lambda': 0.002316457903103836}. Best is trial 31 with value: 0.8830492498933261.\n",
      "Training until validation scores don't improve for 50 rounds\n",
      "[100]\ttrain's l2: 0.0293922\tvalid's l2: 0.0385527\n",
      "Did not meet early stopping. Best iteration is:\n",
      "[100]\ttrain's l2: 0.0293922\tvalid's l2: 0.0385527\n",
      "[I 2024-11-29 04:42:08,133] Trial 47 finished with value: 0.7229143033837198 and parameters: {'learning_rate': 0.016777955784200597, 'num_leaves': 5, 'max_depth': 5, 'min_child_samples': 25, 'min_child_weight': 0.4603758654404126, 'subsample': 0.6754575062760393, 'colsample_bytree': 0.558533508213803, 'reg_alpha': 0.0037322156377670697, 'reg_lambda': 1.111840595313212}. Best is trial 31 with value: 0.8830492498933261.\n",
      "Training until validation scores don't improve for 50 rounds\n",
      "[100]\ttrain's l2: 0.0142472\tvalid's l2: 0.0220872\n",
      "Did not meet early stopping. Best iteration is:\n",
      "[100]\ttrain's l2: 0.0142472\tvalid's l2: 0.0220872\n",
      "[I 2024-11-29 04:42:09,509] Trial 48 finished with value: 0.8412550201400109 and parameters: {'learning_rate': 0.033993908780759724, 'num_leaves': 6, 'max_depth': 3, 'min_child_samples': 37, 'min_child_weight': 0.0016530615299177754, 'subsample': 0.9109300296451781, 'colsample_bytree': 0.8531211135782482, 'reg_alpha': 0.002115412774188856, 'reg_lambda': 0.002184494000706412}. Best is trial 31 with value: 0.8830492498933261.\n",
      "Training until validation scores don't improve for 50 rounds\n",
      "Early stopping, best iteration is:\n",
      "[36]\ttrain's l2: 0.00626869\tvalid's l2: 0.0188381\n",
      "[I 2024-11-29 04:42:10,601] Trial 49 finished with value: 0.8646072434751138 and parameters: {'learning_rate': 0.2779878858486519, 'num_leaves': 10, 'max_depth': 4, 'min_child_samples': 42, 'min_child_weight': 0.6946175184647424, 'subsample': 0.9930005319114354, 'colsample_bytree': 0.8766890926294708, 'reg_alpha': 0.03199177539819798, 'reg_lambda': 0.002157758652553991}. Best is trial 31 with value: 0.8830492498933261.\n"
     ]
    }
   ],
   "source": [
    "# Optimize hyperparameters\n",
    "study = optuna.create_study(direction=\"maximize\", sampler=optuna.samplers.RandomSampler(seed=42))\n",
    "study.optimize(objective, n_trials=50, show_progress_bar=True)"
   ]
  },
  {
   "cell_type": "code",
   "execution_count": 41,
   "metadata": {},
   "outputs": [
    {
     "name": "stdout",
     "output_type": "stream",
     "text": [
      "Best R2 Score: 0.8830492498933261\n",
      "Best Parameters: {'learning_rate': 0.09359980324420485, 'num_leaves': 19, 'max_depth': 4, 'min_child_samples': 22, 'min_child_weight': 0.0019140171266136662, 'subsample': 0.789140070498087, 'colsample_bytree': 0.517971136898371, 'reg_alpha': 0.0728437126516689, 'reg_lambda': 0.14810800730363496}\n"
     ]
    }
   ],
   "source": [
    "# Best hyperparameters\n",
    "print(\"Best R2 Score:\", study.best_value)\n",
    "print(\"Best Parameters:\", study.best_params)\n",
    "\n",
    "# Train the final model with best parameters\n",
    "best_params = study.best_params\n",
    "best_params[\"objective\"] = \"regression\"\n",
    "best_params[\"metric\"] = \"mse\"\n",
    "train_data = lgb.Dataset(X_train, label=y_train)\n",
    "valid_data = lgb.Dataset(X_test, label=y_test, reference=train_data)"
   ]
  },
  {
   "cell_type": "code",
   "execution_count": 42,
   "metadata": {},
   "outputs": [
    {
     "name": "stdout",
     "output_type": "stream",
     "text": [
      "Training until validation scores don't improve for 100 rounds\n",
      "[10]\ttrain's l2: 0.0368504\tvalid's l2: 0.0501012\n",
      "[20]\ttrain's l2: 0.0176919\tvalid's l2: 0.0282188\n",
      "[30]\ttrain's l2: 0.012003\tvalid's l2: 0.0215093\n",
      "[40]\ttrain's l2: 0.0096245\tvalid's l2: 0.0188021\n",
      "[50]\ttrain's l2: 0.00832409\tvalid's l2: 0.0176209\n",
      "[60]\ttrain's l2: 0.00738229\tvalid's l2: 0.016949\n",
      "[70]\ttrain's l2: 0.00658531\tvalid's l2: 0.0165796\n",
      "[80]\ttrain's l2: 0.00601311\tvalid's l2: 0.0163601\n",
      "[90]\ttrain's l2: 0.00549703\tvalid's l2: 0.0163459\n",
      "[100]\ttrain's l2: 0.00514358\tvalid's l2: 0.0163342\n",
      "[110]\ttrain's l2: 0.00473671\tvalid's l2: 0.0164728\n",
      "[120]\ttrain's l2: 0.00443697\tvalid's l2: 0.0164115\n",
      "[130]\ttrain's l2: 0.00414503\tvalid's l2: 0.0165389\n",
      "[140]\ttrain's l2: 0.00387176\tvalid's l2: 0.0165878\n",
      "[150]\ttrain's l2: 0.00362637\tvalid's l2: 0.0166294\n",
      "[160]\ttrain's l2: 0.0033941\tvalid's l2: 0.0165553\n",
      "[170]\ttrain's l2: 0.00314493\tvalid's l2: 0.0166481\n",
      "[180]\ttrain's l2: 0.00292234\tvalid's l2: 0.0167112\n",
      "[190]\ttrain's l2: 0.0027405\tvalid's l2: 0.0166973\n",
      "Early stopping, best iteration is:\n",
      "[94]\ttrain's l2: 0.00531758\tvalid's l2: 0.0162721\n"
     ]
    }
   ],
   "source": [
    "final_model = lgb.train(\n",
    "        best_params,\n",
    "        train_data,\n",
    "        num_boost_round=5000,\n",
    "        valid_sets=[train_data, valid_data],  # Validation sets\n",
    "        valid_names=['train', 'valid'],\n",
    "        # verbose_eval=False,\n",
    "        callbacks=[\n",
    "            lgb.early_stopping(stopping_rounds=100),  # Early stopping\n",
    "            lgb.log_evaluation(period=10)           # Log evaluation every 10 iterations\n",
    "        ]\n",
    "    )"
   ]
  },
  {
   "cell_type": "code",
   "execution_count": 43,
   "metadata": {},
   "outputs": [
    {
     "name": "stdout",
     "output_type": "stream",
     "text": [
      "Final R2: 0.8830492498933261\n"
     ]
    }
   ],
   "source": [
    "# Predict on the test set\n",
    "y_pred = final_model.predict(X_test)\n",
    "final_r2 = r2_score(y_test, y_pred)\n",
    "print(\"Final R2:\", final_r2)"
   ]
  },
  {
   "cell_type": "code",
   "execution_count": 44,
   "metadata": {},
   "outputs": [
    {
     "name": "stdout",
     "output_type": "stream",
     "text": [
      "0.12756222906126163\n"
     ]
    }
   ],
   "source": [
    "rmse = np.sqrt(mean_squared_error(y_test, y_pred))\n",
    "print(rmse)"
   ]
  },
  {
   "cell_type": "markdown",
   "metadata": {},
   "source": [
    "### TO DO\n"
   ]
  },
  {
   "cell_type": "code",
   "execution_count": null,
   "metadata": {},
   "outputs": [],
   "source": []
  }
 ],
 "metadata": {
  "kernelspec": {
   "display_name": "ad-hoc-2-sR-8fk1E",
   "language": "python",
   "name": "python3"
  },
  "language_info": {
   "codemirror_mode": {
    "name": "ipython",
    "version": 3
   },
   "file_extension": ".py",
   "mimetype": "text/x-python",
   "name": "python",
   "nbconvert_exporter": "python",
   "pygments_lexer": "ipython3",
   "version": "3.10.13"
  }
 },
 "nbformat": 4,
 "nbformat_minor": 2
}
