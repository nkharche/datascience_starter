{
 "cells": [
  {
   "cell_type": "code",
   "execution_count": null,
   "metadata": {},
   "outputs": [],
   "source": [
    "missingIndicator = Pipeline([\n",
    "    ('columnSelector', ColumnSelector(columns = [\"GarageYrBlt\"])),\n",
    "    ('imputer', MissingIndicator())\n",
    "])\n",
    "# missingIndicator.fit_transform(X)\n",
    "\n",
    "noneImputer = Pipeline([\n",
    "    ('columnSelector', ColumnSelector(\n",
    "        columns = [\"PoolQC\", \"MiscFeature\", \"Alley\", \"Fence\", \"FireplaceQu\",  # miscFeats\n",
    "                   \"GarageType\", \"GarageFinish\", \"GarageQual\", \"GarageCond\",  # garageFeats\n",
    "                   \"BsmtFinType2\", \"BsmtExposure\", \"BsmtFinType1\", \"BsmtCond\", \"BsmtQual\",  # bsmtFeats\n",
    "                   \"MasVnrType\"\n",
    "        ]\n",
    "    )),\n",
    "    ('imputer', SimpleImputer(strategy=\"constant\", fill_value=\"None\"))\n",
    "])\n",
    "# noneImputer.fit_transform(X)\n",
    "\n",
    "mostFrequentImputer = Pipeline([\n",
    "    ('columnSelector', ColumnSelector(columns = [\"Electrical\"])),\n",
    "    ('imputer', SimpleImputer(strategy=\"most_frequent\"))\n",
    "])\n",
    "# mostFrequentImputer.fit_transform(X)\n",
    "\n",
    "zeroImputer = Pipeline([\n",
    "    ('columnSelector', ColumnSelector(columns = [\"MasVnrArea\", \"GarageYrBlt\"])),\n",
    "    ('imputer', SimpleImputer(strategy=\"constant\", fill_value=0))\n",
    "])\n",
    "# zeroImputer.fit_transform(X)\n",
    "\n",
    "lotFrontageImputer = MedianOfGroupImputer(\n",
    "    imputeColumns=['LotFrontage'],\n",
    "    groupbyColumn='Neighborhood'\n",
    ")\n",
    "#lotFrontageImputer.fit_transform(X)"
   ]
  },
  {
   "cell_type": "code",
   "execution_count": null,
   "metadata": {},
   "outputs": [],
   "source": [
    "numericFeatureUnion = FeatureUnion([\n",
    "    ('missingIndicator', missingIndicator),\n",
    "    ('mostFrequentImputer', mostFrequentImputer),\n",
    "    ('zeroImputer', zeroImputer),\n",
    "    ('lotFrontageImputer', lotFrontageImputer)\n",
    "])\n",
    "\n",
    "#numericFeatureUnion.fit_transform(X)"
   ]
  }
 ],
 "metadata": {
  "kernelspec": {
   "display_name": "Python 3",
   "language": "python",
   "name": "python3"
  },
  "language_info": {
   "codemirror_mode": {
    "name": "ipython",
    "version": 3
   },
   "file_extension": ".py",
   "mimetype": "text/x-python",
   "name": "python",
   "nbconvert_exporter": "python",
   "pygments_lexer": "ipython3",
   "version": "3.8.2"
  }
 },
 "nbformat": 4,
 "nbformat_minor": 4
}
