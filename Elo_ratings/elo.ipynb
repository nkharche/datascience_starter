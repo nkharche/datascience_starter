{
 "cells": [
  {
   "cell_type": "markdown",
   "metadata": {},
   "source": [
    "### Predict winners using Elo rating system\n",
    "\n",
    "References\n",
    "1. https://en.wikipedia.org/wiki/Elo_rating_system\n",
    "* https://www.kaggle.com/kplauritzen/elo-ratings-in-python  \n",
    "* https://medium.com/swlh/how-i-created-a-league-of-legends-elo-model-using-python-4209461fd0ac  \n",
    "* https://github.com/sublee/elo  \n",
    "* https://github.com/HankSheehan/EloPy  "
   ]
  },
  {
   "cell_type": "code",
   "execution_count": 1,
   "metadata": {},
   "outputs": [],
   "source": [
    "import pandas as pd\n",
    "import numpy as np\n",
    "\n",
    "from sklearn.metrics import roc_curve, auc, confusion_matrix, ConfusionMatrixDisplay\n",
    "\n",
    "import matplotlib.pyplot as plt"
   ]
  },
  {
   "cell_type": "markdown",
   "metadata": {},
   "source": [
    "### Load the data"
   ]
  },
  {
   "cell_type": "code",
   "execution_count": 2,
   "metadata": {},
   "outputs": [],
   "source": [
    "data_dir = './march-machine-learning-mania-2017'\n",
    "df_reg = pd.read_csv(data_dir + '/' + 'RegularSeasonCompactResults.csv')\n",
    "df_tour = pd.read_csv(data_dir + '/' + 'TourneyCompactResults.csv')\n",
    "df_seasons = pd.read_csv(data_dir + '/' + 'Seasons.csv')\n",
    "df_teams = pd.read_csv(data_dir + '/' + 'Teams.csv')"
   ]
  },
  {
   "cell_type": "code",
   "execution_count": 3,
   "metadata": {},
   "outputs": [
    {
     "data": {
      "text/html": [
       "<div>\n",
       "<style scoped>\n",
       "    .dataframe tbody tr th:only-of-type {\n",
       "        vertical-align: middle;\n",
       "    }\n",
       "\n",
       "    .dataframe tbody tr th {\n",
       "        vertical-align: top;\n",
       "    }\n",
       "\n",
       "    .dataframe thead th {\n",
       "        text-align: right;\n",
       "    }\n",
       "</style>\n",
       "<table border=\"1\" class=\"dataframe\">\n",
       "  <thead>\n",
       "    <tr style=\"text-align: right;\">\n",
       "      <th></th>\n",
       "      <th>Season</th>\n",
       "      <th>Daynum</th>\n",
       "      <th>Wteam</th>\n",
       "      <th>Wscore</th>\n",
       "      <th>Lteam</th>\n",
       "      <th>Lscore</th>\n",
       "      <th>Wloc</th>\n",
       "      <th>Numot</th>\n",
       "    </tr>\n",
       "  </thead>\n",
       "  <tbody>\n",
       "    <tr>\n",
       "      <th>0</th>\n",
       "      <td>1985</td>\n",
       "      <td>20</td>\n",
       "      <td>1228</td>\n",
       "      <td>81</td>\n",
       "      <td>1328</td>\n",
       "      <td>64</td>\n",
       "      <td>N</td>\n",
       "      <td>0</td>\n",
       "    </tr>\n",
       "    <tr>\n",
       "      <th>1</th>\n",
       "      <td>1985</td>\n",
       "      <td>25</td>\n",
       "      <td>1106</td>\n",
       "      <td>77</td>\n",
       "      <td>1354</td>\n",
       "      <td>70</td>\n",
       "      <td>H</td>\n",
       "      <td>0</td>\n",
       "    </tr>\n",
       "    <tr>\n",
       "      <th>2</th>\n",
       "      <td>1985</td>\n",
       "      <td>25</td>\n",
       "      <td>1112</td>\n",
       "      <td>63</td>\n",
       "      <td>1223</td>\n",
       "      <td>56</td>\n",
       "      <td>H</td>\n",
       "      <td>0</td>\n",
       "    </tr>\n",
       "    <tr>\n",
       "      <th>3</th>\n",
       "      <td>1985</td>\n",
       "      <td>25</td>\n",
       "      <td>1165</td>\n",
       "      <td>70</td>\n",
       "      <td>1432</td>\n",
       "      <td>54</td>\n",
       "      <td>H</td>\n",
       "      <td>0</td>\n",
       "    </tr>\n",
       "    <tr>\n",
       "      <th>4</th>\n",
       "      <td>1985</td>\n",
       "      <td>25</td>\n",
       "      <td>1192</td>\n",
       "      <td>86</td>\n",
       "      <td>1447</td>\n",
       "      <td>74</td>\n",
       "      <td>H</td>\n",
       "      <td>0</td>\n",
       "    </tr>\n",
       "  </tbody>\n",
       "</table>\n",
       "</div>"
      ],
      "text/plain": [
       "   Season  Daynum  Wteam  Wscore  Lteam  Lscore Wloc  Numot\n",
       "0    1985      20   1228      81   1328      64    N      0\n",
       "1    1985      25   1106      77   1354      70    H      0\n",
       "2    1985      25   1112      63   1223      56    H      0\n",
       "3    1985      25   1165      70   1432      54    H      0\n",
       "4    1985      25   1192      86   1447      74    H      0"
      ]
     },
     "execution_count": 3,
     "metadata": {},
     "output_type": "execute_result"
    }
   ],
   "source": [
    "df_reg.head()"
   ]
  },
  {
   "cell_type": "code",
   "execution_count": 4,
   "metadata": {},
   "outputs": [
    {
     "data": {
      "text/html": [
       "<div>\n",
       "<style scoped>\n",
       "    .dataframe tbody tr th:only-of-type {\n",
       "        vertical-align: middle;\n",
       "    }\n",
       "\n",
       "    .dataframe tbody tr th {\n",
       "        vertical-align: top;\n",
       "    }\n",
       "\n",
       "    .dataframe thead th {\n",
       "        text-align: right;\n",
       "    }\n",
       "</style>\n",
       "<table border=\"1\" class=\"dataframe\">\n",
       "  <thead>\n",
       "    <tr style=\"text-align: right;\">\n",
       "      <th></th>\n",
       "      <th>Season</th>\n",
       "      <th>Daynum</th>\n",
       "      <th>Wteam</th>\n",
       "      <th>Wscore</th>\n",
       "      <th>Lteam</th>\n",
       "      <th>Lscore</th>\n",
       "      <th>Wloc</th>\n",
       "      <th>Numot</th>\n",
       "    </tr>\n",
       "  </thead>\n",
       "  <tbody>\n",
       "    <tr>\n",
       "      <th>0</th>\n",
       "      <td>1985</td>\n",
       "      <td>136</td>\n",
       "      <td>1116</td>\n",
       "      <td>63</td>\n",
       "      <td>1234</td>\n",
       "      <td>54</td>\n",
       "      <td>N</td>\n",
       "      <td>0</td>\n",
       "    </tr>\n",
       "    <tr>\n",
       "      <th>1</th>\n",
       "      <td>1985</td>\n",
       "      <td>136</td>\n",
       "      <td>1120</td>\n",
       "      <td>59</td>\n",
       "      <td>1345</td>\n",
       "      <td>58</td>\n",
       "      <td>N</td>\n",
       "      <td>0</td>\n",
       "    </tr>\n",
       "    <tr>\n",
       "      <th>2</th>\n",
       "      <td>1985</td>\n",
       "      <td>136</td>\n",
       "      <td>1207</td>\n",
       "      <td>68</td>\n",
       "      <td>1250</td>\n",
       "      <td>43</td>\n",
       "      <td>N</td>\n",
       "      <td>0</td>\n",
       "    </tr>\n",
       "    <tr>\n",
       "      <th>3</th>\n",
       "      <td>1985</td>\n",
       "      <td>136</td>\n",
       "      <td>1229</td>\n",
       "      <td>58</td>\n",
       "      <td>1425</td>\n",
       "      <td>55</td>\n",
       "      <td>N</td>\n",
       "      <td>0</td>\n",
       "    </tr>\n",
       "    <tr>\n",
       "      <th>4</th>\n",
       "      <td>1985</td>\n",
       "      <td>136</td>\n",
       "      <td>1242</td>\n",
       "      <td>49</td>\n",
       "      <td>1325</td>\n",
       "      <td>38</td>\n",
       "      <td>N</td>\n",
       "      <td>0</td>\n",
       "    </tr>\n",
       "  </tbody>\n",
       "</table>\n",
       "</div>"
      ],
      "text/plain": [
       "   Season  Daynum  Wteam  Wscore  Lteam  Lscore Wloc  Numot\n",
       "0    1985     136   1116      63   1234      54    N      0\n",
       "1    1985     136   1120      59   1345      58    N      0\n",
       "2    1985     136   1207      68   1250      43    N      0\n",
       "3    1985     136   1229      58   1425      55    N      0\n",
       "4    1985     136   1242      49   1325      38    N      0"
      ]
     },
     "execution_count": 4,
     "metadata": {},
     "output_type": "execute_result"
    }
   ],
   "source": [
    "df_tour.head()"
   ]
  },
  {
   "cell_type": "code",
   "execution_count": 5,
   "metadata": {},
   "outputs": [
    {
     "data": {
      "text/html": [
       "<div>\n",
       "<style scoped>\n",
       "    .dataframe tbody tr th:only-of-type {\n",
       "        vertical-align: middle;\n",
       "    }\n",
       "\n",
       "    .dataframe tbody tr th {\n",
       "        vertical-align: top;\n",
       "    }\n",
       "\n",
       "    .dataframe thead th {\n",
       "        text-align: right;\n",
       "    }\n",
       "</style>\n",
       "<table border=\"1\" class=\"dataframe\">\n",
       "  <thead>\n",
       "    <tr style=\"text-align: right;\">\n",
       "      <th></th>\n",
       "      <th>Season</th>\n",
       "      <th>Dayzero</th>\n",
       "      <th>Regionw</th>\n",
       "      <th>Regionx</th>\n",
       "      <th>Regiony</th>\n",
       "      <th>Regionz</th>\n",
       "    </tr>\n",
       "  </thead>\n",
       "  <tbody>\n",
       "    <tr>\n",
       "      <th>0</th>\n",
       "      <td>1985</td>\n",
       "      <td>10/29/1984</td>\n",
       "      <td>East</td>\n",
       "      <td>West</td>\n",
       "      <td>Midwest</td>\n",
       "      <td>Southeast</td>\n",
       "    </tr>\n",
       "    <tr>\n",
       "      <th>1</th>\n",
       "      <td>1986</td>\n",
       "      <td>10/28/1985</td>\n",
       "      <td>East</td>\n",
       "      <td>Midwest</td>\n",
       "      <td>Southeast</td>\n",
       "      <td>West</td>\n",
       "    </tr>\n",
       "    <tr>\n",
       "      <th>2</th>\n",
       "      <td>1987</td>\n",
       "      <td>10/27/1986</td>\n",
       "      <td>East</td>\n",
       "      <td>Southeast</td>\n",
       "      <td>Midwest</td>\n",
       "      <td>West</td>\n",
       "    </tr>\n",
       "    <tr>\n",
       "      <th>3</th>\n",
       "      <td>1988</td>\n",
       "      <td>11/2/1987</td>\n",
       "      <td>East</td>\n",
       "      <td>Midwest</td>\n",
       "      <td>Southeast</td>\n",
       "      <td>West</td>\n",
       "    </tr>\n",
       "    <tr>\n",
       "      <th>4</th>\n",
       "      <td>1989</td>\n",
       "      <td>10/31/1988</td>\n",
       "      <td>East</td>\n",
       "      <td>West</td>\n",
       "      <td>Midwest</td>\n",
       "      <td>Southeast</td>\n",
       "    </tr>\n",
       "  </tbody>\n",
       "</table>\n",
       "</div>"
      ],
      "text/plain": [
       "   Season     Dayzero Regionw    Regionx    Regiony    Regionz\n",
       "0    1985  10/29/1984    East       West    Midwest  Southeast\n",
       "1    1986  10/28/1985    East    Midwest  Southeast       West\n",
       "2    1987  10/27/1986    East  Southeast    Midwest       West\n",
       "3    1988   11/2/1987    East    Midwest  Southeast       West\n",
       "4    1989  10/31/1988    East       West    Midwest  Southeast"
      ]
     },
     "execution_count": 5,
     "metadata": {},
     "output_type": "execute_result"
    }
   ],
   "source": [
    "df_seasons.head()"
   ]
  },
  {
   "cell_type": "markdown",
   "metadata": {},
   "source": [
    "#### Drop the columns that we will not use in this analysis"
   ]
  },
  {
   "cell_type": "code",
   "execution_count": 6,
   "metadata": {},
   "outputs": [],
   "source": [
    "df = (\n",
    "    pd.concat([df_reg, df_tour], ignore_index=True)\n",
    "    .drop(labels=['Wscore', 'Lscore', 'Wloc', 'Numot'], axis=1)\n",
    "    .sort_values(by=['Season', 'Daynum'])\n",
    ")"
   ]
  },
  {
   "cell_type": "markdown",
   "metadata": {},
   "source": [
    "#### Add a new column containing the date each game was played on "
   ]
  },
  {
   "cell_type": "code",
   "execution_count": 7,
   "metadata": {},
   "outputs": [],
   "source": [
    "df_seasons['Dayzero'] = pd.to_datetime(df_seasons['Dayzero'])\n",
    "df['Date'] = df.merge(df_seasons, on='Season').apply(lambda x: x['Dayzero'] + pd.Timedelta(days=x['Daynum']), axis=1)\n",
    "df = df.drop(labels=['Daynum'], axis=1)"
   ]
  },
  {
   "cell_type": "code",
   "execution_count": 8,
   "metadata": {},
   "outputs": [
    {
     "name": "stdout",
     "output_type": "stream",
     "text": [
      "<class 'pandas.core.frame.DataFrame'>\n",
      "Int64Index: 152734 entries, 0 to 150683\n",
      "Data columns (total 4 columns):\n",
      " #   Column  Non-Null Count   Dtype         \n",
      "---  ------  --------------   -----         \n",
      " 0   Season  152734 non-null  int64         \n",
      " 1   Wteam   152734 non-null  int64         \n",
      " 2   Lteam   152734 non-null  int64         \n",
      " 3   Date    152734 non-null  datetime64[ns]\n",
      "dtypes: datetime64[ns](1), int64(3)\n",
      "memory usage: 5.8 MB\n"
     ]
    }
   ],
   "source": [
    "df.info()"
   ]
  },
  {
   "cell_type": "markdown",
   "metadata": {},
   "source": [
    "There are no missing data."
   ]
  },
  {
   "cell_type": "markdown",
   "metadata": {},
   "source": [
    "#### Clear pandas dataframes we don't need any more"
   ]
  },
  {
   "cell_type": "code",
   "execution_count": 9,
   "metadata": {},
   "outputs": [],
   "source": [
    "del df_reg, df_tour"
   ]
  },
  {
   "cell_type": "markdown",
   "metadata": {},
   "source": [
    "#### Date of first game played by a team"
   ]
  },
  {
   "cell_type": "code",
   "execution_count": 10,
   "metadata": {},
   "outputs": [
    {
     "data": {
      "text/html": [
       "<div>\n",
       "<style scoped>\n",
       "    .dataframe tbody tr th:only-of-type {\n",
       "        vertical-align: middle;\n",
       "    }\n",
       "\n",
       "    .dataframe tbody tr th {\n",
       "        vertical-align: top;\n",
       "    }\n",
       "\n",
       "    .dataframe thead th {\n",
       "        text-align: right;\n",
       "    }\n",
       "</style>\n",
       "<table border=\"1\" class=\"dataframe\">\n",
       "  <thead>\n",
       "    <tr style=\"text-align: right;\">\n",
       "      <th></th>\n",
       "      <th>Team_Id</th>\n",
       "      <th>Team_Name</th>\n",
       "    </tr>\n",
       "  </thead>\n",
       "  <tbody>\n",
       "    <tr>\n",
       "      <th>0</th>\n",
       "      <td>1101</td>\n",
       "      <td>Abilene Chr</td>\n",
       "    </tr>\n",
       "    <tr>\n",
       "      <th>1</th>\n",
       "      <td>1102</td>\n",
       "      <td>Air Force</td>\n",
       "    </tr>\n",
       "    <tr>\n",
       "      <th>2</th>\n",
       "      <td>1103</td>\n",
       "      <td>Akron</td>\n",
       "    </tr>\n",
       "    <tr>\n",
       "      <th>3</th>\n",
       "      <td>1104</td>\n",
       "      <td>Alabama</td>\n",
       "    </tr>\n",
       "    <tr>\n",
       "      <th>4</th>\n",
       "      <td>1105</td>\n",
       "      <td>Alabama A&amp;M</td>\n",
       "    </tr>\n",
       "    <tr>\n",
       "      <th>...</th>\n",
       "      <td>...</td>\n",
       "      <td>...</td>\n",
       "    </tr>\n",
       "    <tr>\n",
       "      <th>359</th>\n",
       "      <td>1460</td>\n",
       "      <td>Wright St</td>\n",
       "    </tr>\n",
       "    <tr>\n",
       "      <th>360</th>\n",
       "      <td>1461</td>\n",
       "      <td>Wyoming</td>\n",
       "    </tr>\n",
       "    <tr>\n",
       "      <th>361</th>\n",
       "      <td>1462</td>\n",
       "      <td>Xavier</td>\n",
       "    </tr>\n",
       "    <tr>\n",
       "      <th>362</th>\n",
       "      <td>1463</td>\n",
       "      <td>Yale</td>\n",
       "    </tr>\n",
       "    <tr>\n",
       "      <th>363</th>\n",
       "      <td>1464</td>\n",
       "      <td>Youngstown St</td>\n",
       "    </tr>\n",
       "  </tbody>\n",
       "</table>\n",
       "<p>364 rows × 2 columns</p>\n",
       "</div>"
      ],
      "text/plain": [
       "     Team_Id      Team_Name\n",
       "0       1101    Abilene Chr\n",
       "1       1102      Air Force\n",
       "2       1103          Akron\n",
       "3       1104        Alabama\n",
       "4       1105    Alabama A&M\n",
       "..       ...            ...\n",
       "359     1460      Wright St\n",
       "360     1461        Wyoming\n",
       "361     1462         Xavier\n",
       "362     1463           Yale\n",
       "363     1464  Youngstown St\n",
       "\n",
       "[364 rows x 2 columns]"
      ]
     },
     "execution_count": 10,
     "metadata": {},
     "output_type": "execute_result"
    }
   ],
   "source": [
    "df_teams"
   ]
  },
  {
   "cell_type": "code",
   "execution_count": 11,
   "metadata": {},
   "outputs": [
    {
     "data": {
      "text/plain": [
       "Team\n",
       "1101   2013-02-06\n",
       "1102   1984-11-24\n",
       "1103   1984-12-01\n",
       "1104   1984-11-26\n",
       "1105   1999-02-13\n",
       "          ...    \n",
       "1460   1987-03-08\n",
       "1461   1984-12-04\n",
       "1462   1984-12-01\n",
       "1463   1984-11-30\n",
       "1464   1984-11-26\n",
       "Length: 364, dtype: datetime64[ns]"
      ]
     },
     "execution_count": 11,
     "metadata": {},
     "output_type": "execute_result"
    }
   ],
   "source": [
    "df_first_game_date = pd.DataFrame(df.groupby('Wteam')['Date'].min())\n",
    "df_first_game_date = df_first_game_date.merge(\n",
    "    df.groupby('Lteam')['Date'].min(), \n",
    "    left_index=True, right_on='Lteam'\n",
    ")\n",
    "df_first_game_date = df_first_game_date[['Date_x', 'Date_y']].min(axis=1)\n",
    "df_first_game_date.index = df_first_game_date.index.rename('Team')\n",
    "df_first_game_date"
   ]
  },
  {
   "cell_type": "markdown",
   "metadata": {},
   "source": [
    "#### Elo ratings model"
   ]
  },
  {
   "cell_type": "code",
   "execution_count": 12,
   "metadata": {},
   "outputs": [
    {
     "name": "stdout",
     "output_type": "stream",
     "text": [
      "[id: 1, rating: [('2021-02-01', 1500), ('2021-02-01', 1532.0), ('2021-02-02', 1558.1711618358436), ('2021-02-03', 1515.838968826975), ('2021-02-04', 1480.929381086808)], id: 2, rating: [('2021-02-01', 1500), ('2021-02-01', 1468.0), ('2021-02-02', 1441.8288381641564), ('2021-02-03', 1484.161031173025), ('2021-02-04', 1519.070618913192)]]\n"
     ]
    }
   ],
   "source": [
    "from collections import defaultdict\n",
    "\n",
    "\n",
    "class Player:\n",
    "    def __init__(self, player_id):\n",
    "        self.id = player_id\n",
    "        self.rating_date = []\n",
    "        self.rating = []\n",
    "\n",
    "        \n",
    "    def update_rating(self, rating_date, rating):\n",
    "        self.rating_date.append(rating_date)\n",
    "        self.rating.append(rating)\n",
    "        \n",
    "        \n",
    "    def __repr__(self):\n",
    "        return (\n",
    "            'id: ' + str(self.id) + ', '\n",
    "            'rating: ' + str([(d, r) for (d, r) in zip(self.rating_date, self.rating)])\n",
    "        )\n",
    "\n",
    "\n",
    "class EloRatingsUpdater:\n",
    "    def __init__(self):\n",
    "        self.base_rating = 1500\n",
    "        self.width = 400\n",
    "        self.k_factor = 64\n",
    "        self.players = defaultdict(Player)  # {player_id, Player object}\n",
    "        \n",
    "    \n",
    "    def __repr__(self):\n",
    "        return str([v for k, v in self.players.items()])\n",
    "    \n",
    "    \n",
    "    def add_player(self, player_id, game_date, rating=None):\n",
    "        if rating == None:\n",
    "            rating = self.base_rating\n",
    "        new_player = Player(player_id)\n",
    "        new_player.update_rating(game_date, rating)\n",
    "        self.players[player_id] = new_player\n",
    "        return new_player\n",
    "    \n",
    "    \n",
    "    def predict_proba(self, game_date, winner_id, looser_id):\n",
    "        winner = self.players.get(winner_id, None)\n",
    "        looser = self.players.get(looser_id, None)\n",
    "        if not winner:\n",
    "            winner = self.add_player(winner_id, game_date)\n",
    "        if not looser:\n",
    "            looser = self.add_player(looser_id, game_date)\n",
    "        winner_rating = winner.rating[-1]\n",
    "        looser_rating = looser.rating[-1]\n",
    "        expected_proba = self.expected_win_prob(winner_rating, looser_rating)\n",
    "        change = self.k_factor*(1 - expected_proba)\n",
    "        winner.update_rating(game_date, winner_rating + change)\n",
    "        looser.update_rating(game_date, looser_rating - change)\n",
    "        #print (winner)\n",
    "        #print (looser)\n",
    "        #print ()\n",
    "        return expected_proba\n",
    "    \n",
    "    \n",
    "    def expected_win_prob(self, winner_rating, looser_rating):\n",
    "        return 1/(1 + 10**((looser_rating - winner_rating)/self.width))\n",
    "        \n",
    "    \n",
    "eu = EloRatingsUpdater()\n",
    "eu.predict_proba('2021-02-01', 1, 2)\n",
    "eu.predict_proba('2021-02-02', 1, 2)\n",
    "eu.predict_proba('2021-02-03', 2, 1)\n",
    "eu.predict_proba('2021-02-04', 2, 1)\n",
    "print (eu)"
   ]
  },
  {
   "cell_type": "code",
   "execution_count": 13,
   "metadata": {},
   "outputs": [],
   "source": [
    "def predict_probability_of_winning(df):\n",
    "    eu = EloRatingsUpdater()\n",
    "    y_pred_proba = []\n",
    "    for _, game in df.iterrows():\n",
    "        y_pred_proba.append(eu.predict_proba(game['Date'], game['Wteam'], game['Lteam']))\n",
    "    return y_pred_proba\n",
    "    \n",
    "df['y_pred_proba'] = predict_probability_of_winning(df)"
   ]
  },
  {
   "cell_type": "code",
   "execution_count": 14,
   "metadata": {},
   "outputs": [
    {
     "data": {
      "text/html": [
       "<div>\n",
       "<style scoped>\n",
       "    .dataframe tbody tr th:only-of-type {\n",
       "        vertical-align: middle;\n",
       "    }\n",
       "\n",
       "    .dataframe tbody tr th {\n",
       "        vertical-align: top;\n",
       "    }\n",
       "\n",
       "    .dataframe thead th {\n",
       "        text-align: right;\n",
       "    }\n",
       "</style>\n",
       "<table border=\"1\" class=\"dataframe\">\n",
       "  <thead>\n",
       "    <tr style=\"text-align: right;\">\n",
       "      <th></th>\n",
       "      <th>Season</th>\n",
       "      <th>Wteam</th>\n",
       "      <th>Lteam</th>\n",
       "      <th>Date</th>\n",
       "      <th>y_pred_proba</th>\n",
       "    </tr>\n",
       "  </thead>\n",
       "  <tbody>\n",
       "    <tr>\n",
       "      <th>0</th>\n",
       "      <td>1985</td>\n",
       "      <td>1228</td>\n",
       "      <td>1328</td>\n",
       "      <td>1984-11-18</td>\n",
       "      <td>0.5</td>\n",
       "    </tr>\n",
       "    <tr>\n",
       "      <th>1</th>\n",
       "      <td>1985</td>\n",
       "      <td>1106</td>\n",
       "      <td>1354</td>\n",
       "      <td>1984-11-23</td>\n",
       "      <td>0.5</td>\n",
       "    </tr>\n",
       "    <tr>\n",
       "      <th>2</th>\n",
       "      <td>1985</td>\n",
       "      <td>1112</td>\n",
       "      <td>1223</td>\n",
       "      <td>1984-11-23</td>\n",
       "      <td>0.5</td>\n",
       "    </tr>\n",
       "    <tr>\n",
       "      <th>3</th>\n",
       "      <td>1985</td>\n",
       "      <td>1165</td>\n",
       "      <td>1432</td>\n",
       "      <td>1984-11-23</td>\n",
       "      <td>0.5</td>\n",
       "    </tr>\n",
       "    <tr>\n",
       "      <th>4</th>\n",
       "      <td>1985</td>\n",
       "      <td>1192</td>\n",
       "      <td>1447</td>\n",
       "      <td>1984-11-23</td>\n",
       "      <td>0.5</td>\n",
       "    </tr>\n",
       "  </tbody>\n",
       "</table>\n",
       "</div>"
      ],
      "text/plain": [
       "   Season  Wteam  Lteam       Date  y_pred_proba\n",
       "0    1985   1228   1328 1984-11-18           0.5\n",
       "1    1985   1106   1354 1984-11-23           0.5\n",
       "2    1985   1112   1223 1984-11-23           0.5\n",
       "3    1985   1165   1432 1984-11-23           0.5\n",
       "4    1985   1192   1447 1984-11-23           0.5"
      ]
     },
     "execution_count": 14,
     "metadata": {},
     "output_type": "execute_result"
    }
   ],
   "source": [
    "df.head()"
   ]
  },
  {
   "cell_type": "markdown",
   "metadata": {},
   "source": [
    "#### Model evaluation"
   ]
  },
  {
   "cell_type": "code",
   "execution_count": 15,
   "metadata": {},
   "outputs": [
    {
     "name": "stdout",
     "output_type": "stream",
     "text": [
      "True positive rate: 70.04 %\n"
     ]
    }
   ],
   "source": [
    "num_true_positives = (\n",
    "    sum(df['y_pred_proba'] > 0.5) + \n",
    "    sum(df['y_pred_proba'] == 0.5)/2  \n",
    "        # When predicted probability is 50 %, we choose winner at random. \n",
    "        # So half of the prections will be correct.\n",
    ")\n",
    "tpr = num_true_positives/len(df)\n",
    "print ('True positive rate: {:.2f} %'.format(tpr*100))"
   ]
  },
  {
   "cell_type": "code",
   "execution_count": 16,
   "metadata": {},
   "outputs": [
    {
     "data": {
      "image/png": "[encoded data removed]",
      "text/plain": [
       "<Figure size 432x288 with 1 Axes>"
      ]
     },
     "metadata": {
      "needs_background": "light"
     },
     "output_type": "display_data"
    }
   ],
   "source": [
    "df['y_pred_proba'].hist(bins=25, alpha=.5, grid=False)\n",
    "plt.xlabel('Expected wins for actual winner')\n",
    "plt.ylabel('Counts');"
   ]
  },
  {
   "cell_type": "code",
   "execution_count": 17,
   "metadata": {},
   "outputs": [],
   "source": [
    "def plot_roc_curve(y_pos, y_pos_pred_proba):\n",
    "    y_neg = np.zeros_like(y_pos)\n",
    "    y_neg_pred_proba = 1 - y_pos_pred_proba\n",
    "    \n",
    "    y = np.concatenate((y_pos, y_neg))\n",
    "    y_score = np.concatenate((y_pos_pred_proba, y_neg_pred_proba))\n",
    "    fpr, tpr, _ = roc_curve(y, y_score)\n",
    "    roc_auc = auc(fpr, tpr)\n",
    "\n",
    "    plt.figure(1)\n",
    "    plt.plot([0, 1], [0, 1], 'k--')\n",
    "    plt.plot(fpr, tpr, '-', label='ROC curve (area = %0.2f)' % roc_auc)\n",
    "    plt.xlabel('False positive rate')\n",
    "    plt.ylabel('True positive rate')\n",
    "    plt.title('ROC curve')\n",
    "    plt.legend(loc='best')\n",
    "    \n",
    "    \n",
    "def confusion_matrix_plot(y_pos, y_pos_pred_proba, normalize=None):\n",
    "    y_neg = np.zeros_like(y_pos)\n",
    "    y_neg_pred_proba = 1 - y_pos_pred_proba\n",
    "    \n",
    "    y_pos_pred = 1*(y_pos_pred_proba > 0.5)\n",
    "    y_neg_pred = 1*(y_pos_pred_proba < 0.5)\n",
    "    \n",
    "    y = np.concatenate((y_pos, y_neg))\n",
    "    y_pred = np.concatenate((y_pos_pred, y_neg_pred))\n",
    "    \n",
    "    cm = confusion_matrix(y, y_pred, normalize=normalize)\n",
    "    \n",
    "    disp = ConfusionMatrixDisplay(confusion_matrix=cm)\n",
    "    return disp.plot(include_values=True, cmap=plt.cm.Blues)    "
   ]
  },
  {
   "cell_type": "code",
   "execution_count": 18,
   "metadata": {},
   "outputs": [
    {
     "data": {
      "image/png": "[encoded data removed]",
      "text/plain": [
       "<Figure size 432x288 with 1 Axes>"
      ]
     },
     "metadata": {
      "needs_background": "light"
     },
     "output_type": "display_data"
    }
   ],
   "source": [
    "plot_roc_curve(np.ones(len(df['y_pred_proba'])), df['y_pred_proba'])"
   ]
  },
  {
   "cell_type": "code",
   "execution_count": 19,
   "metadata": {},
   "outputs": [
    {
     "data": {
      "image/png": "[encoded data removed]",
      "text/plain": [
       "<Figure size 432x288 with 2 Axes>"
      ]
     },
     "metadata": {
      "needs_background": "light"
     },
     "output_type": "display_data"
    }
   ],
   "source": [
    "confusion_matrix_plot(np.ones(len(df['y_pred_proba'])), df['y_pred_proba']);"
   ]
  },
  {
   "cell_type": "code",
   "execution_count": 20,
   "metadata": {},
   "outputs": [
    {
     "data": {
      "image/png": "[encoded data removed]",
      "text/plain": [
       "<Figure size 432x288 with 2 Axes>"
      ]
     },
     "metadata": {
      "needs_background": "light"
     },
     "output_type": "display_data"
    }
   ],
   "source": [
    "confusion_matrix_plot(np.ones(len(df['y_pred_proba'])), df['y_pred_proba'], normalize='true');"
   ]
  },
  {
   "cell_type": "markdown",
   "metadata": {},
   "source": [
    "#### Test on data after 2010"
   ]
  },
  {
   "cell_type": "code",
   "execution_count": 21,
   "metadata": {},
   "outputs": [
    {
     "data": {
      "image/png": "[encoded data removed]",
      "text/plain": [
       "<Figure size 432x288 with 1 Axes>"
      ]
     },
     "metadata": {
      "needs_background": "light"
     },
     "output_type": "display_data"
    }
   ],
   "source": [
    "df[df['Season'] > 2010]['y_pred_proba'].hist(bins=25, alpha=.5, grid=False)\n",
    "plt.xlabel('Expected wins for actual winner')\n",
    "plt.ylabel('Counts');"
   ]
  },
  {
   "cell_type": "code",
   "execution_count": 22,
   "metadata": {},
   "outputs": [
    {
     "name": "stdout",
     "output_type": "stream",
     "text": [
      "True positive rate: 70.50 %\n"
     ]
    }
   ],
   "source": [
    "num_true_positives = (\n",
    "    sum(df[df['Season'] > 2010]['y_pred_proba'] > 0.5) + \n",
    "    sum(df[df['Season'] > 2010]['y_pred_proba'] == 0.5)/2  \n",
    "        # When predicted probability is 50 %, we choose winner at random. \n",
    "        # So half of the prections will be correct.\n",
    ")\n",
    "tpr = num_true_positives/len(df[df['Season'] > 2010]['y_pred_proba'])\n",
    "print ('True positive rate: {:.2f} %'.format(tpr*100))"
   ]
  }
 ],
 "metadata": {
  "kernelspec": {
   "display_name": "Python 3",
   "language": "python",
   "name": "python3"
  },
  "language_info": {
   "codemirror_mode": {
    "name": "ipython",
    "version": 3
   },
   "file_extension": ".py",
   "mimetype": "text/x-python",
   "name": "python",
   "nbconvert_exporter": "python",
   "pygments_lexer": "ipython3",
   "version": "3.8.5"
  }
 },
 "nbformat": 4,
 "nbformat_minor": 4
}
